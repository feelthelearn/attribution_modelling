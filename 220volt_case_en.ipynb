{
 "cells": [
  {
   "cell_type": "markdown",
   "metadata": {},
   "source": [
    "# Custom attibution models\n",
    "## Preparing\n",
    "### Installing programs\n",
    "\n",
    "We will need the following tools for work:\n",
    "* DBMS ClickHouse\n",
    "* Python 2.7 + libs (pandas, requests, plot.ly)\n",
    "* Jupyter Notebook\n",
    "\n",
    "#### ClickHouse Installation\n",
    "ClickHouse can be installed on Linux (you could find a guide here https://clickhouse.yandex/).\n",
    "\n",
    "Windows and Mac users can run ClickHouse on their machines using Docker: the first line sets up clickhouse-server on port 8123, the second one allows to connect to console client.\n",
    "```\n",
    "docker run -d --name clickhouse-server --publish=8123:8123 --publish=9000:9000 yandex/clickhouse-server\n",
    "docker run -it --rm --link clickhouse-server:9000 yandex/clickhouse-client --host clickhouse-server\n",
    "```\n",
    "\n",
    "#### Python and Jupyter Notebook Installation\n",
    "\n",
    "Python can be downloaded on [official site](https://www.python.org/getit/). \n",
    "We will use some libraries besides general ones, the easiest way to install them is to use package manager pip ([how to install pip](https://pip.pypa.io/en/stable/installing/))\n",
    "\n",
    "```\n",
    "pip install pandas jupyter requests plotly\n",
    "```\n",
    "\n",
    "To run Jupyter Notebook you should execute in terminal the following command:\n",
    "\n",
    "```jupyter notebook```\n",
    "\n",
    "After that web-interface will be available by link http://localhost:8888."
   ]
  },
  {
   "cell_type": "markdown",
   "metadata": {},
   "source": [
    "### Loading data to ClickHouse using Logs API\n",
    "\n",
    "The easiest way to load your counter's data to ClickHouse is to use [script on GitHub](https://github.com/yndx-metrika/logs_api_integration).\n",
    "\n",
    "First of all, you need to specify some params in config.\n",
    "\n",
    "Config includes basic params and you will need to set up it just once. For this example I've used the following config file:\n",
    "\n",
    "\n",
    "```\n",
    "{\n",
    "\t\"token\" : \"<insert>\",\n",
    "\t\"counter_id\": \"6375151\",\n",
    "\t\"visits_fields\": [\n",
    "\t    \"ym:s:counterID\",\n",
    "\t    \"ym:s:dateTime\",\n",
    "\t    \"ym:s:date\",\n",
    "\t    \"ym:s:visitDuration\",\n",
    "\t    \"ym:s:bounce\",\n",
    "\t    \"ym:s:pageViews\",\n",
    "\t    \"ym:s:goalsID\",\n",
    "\t    \"ym:s:clientID\",\n",
    "\t    \"ym:s:lastDirectConditionType\",\n",
    "\t    \"ym:s:purchaseRevenue\",\n",
    "\t    \"ym:s:purchaseID\",\n",
    "\t    \"ym:s:lastTrafficSource\",\n",
    "\t    \"ym:s:lastAdvEngine\",\n",
    "\t    \"ym:s:lastSearchEngineRoot\",\n",
    "\t    \"ym:s:visitID\",\n",
    "\t    \"ym:s:UTMMedium\",\n",
    "\t    \"ym:s:startURL\"\n",
    "\t],\n",
    "\t\"log_level\": \"DEBUG\",\n",
    "\t\"retries\": 1,\n",
    "\t\"retries_delay\": 60,\n",
    "\t\"clickhouse\": {\n",
    "\t\t\"host\": \"http://localhost:8123\",\n",
    "\t\t\"user\": \"\",\n",
    "\t\t\"password\": \"\",\n",
    "\t\t\"visits_table\": \"visits_all\",\n",
    "\t\t\"hits_table\": \"hits_all\",\n",
    "\t\t\"database\": \"default\"\n",
    "\t}\n",
    "}\n",
    "```\n",
    "\n",
    "Some parameters are specified in CLI, such as, source (hits or visits) and date range.\n",
    "\n",
    "There are several possible modes for this script.\n",
    "First of all, you could specify params `start_date` and `end_date` to get data for particular period:\n",
    "\n",
    "```python metrica_logs_api.py -source visits -start_date 2015-12-25 -end_date 2015-12-25```\n",
    "\n",
    "The other option is to use one of the following predefined modes:\n",
    "* __history__ - loads the whole  history from the date when counter has been created till the day before yesterday\n",
    "* __regular__ -  recommended mode for regular process, script will load data for day before yesterday\n",
    "* __regular_early__ - the same as __regular__ but it loads yesterday data (it's recommended to use regular mode, because yesterday visits can be unfinished)\n",
    "\n",
    "```python metrica_logs_api.py -source visits -mode regular```"
   ]
  },
  {
   "cell_type": "markdown",
   "metadata": {},
   "source": [
    "### Useful functions\n",
    "\n",
    "Let's write some functions for integration with ClickHouse. The first function just returns result from database, the second one is actually a wrapper for the first one, that returns data as pandas dataframe."
   ]
  },
  {
   "cell_type": "code",
   "execution_count": 1,
   "metadata": {
    "collapsed": true
   },
   "outputs": [],
   "source": [
    "HOST = 'http://localhost:8123'\n",
    "import requests\n",
    "import pandas as pd\n",
    "import StringIO\n",
    "\n",
    "def get_clickhouse_data(query, host = HOST, connection_timeout = 1500):\n",
    "    r = requests.post(host, params = {'query': query}, timeout = connection_timeout)\n",
    "    if r.status_code == 200:\n",
    "        return r.text\n",
    "    else:\n",
    "        raise ValueError, r.text\n",
    "        \n",
    "def get_clickhouse_df(query, host = HOST, connection_timeout = 1500):\n",
    "    data = get_clickhouse_data(query, host, connection_timeout) \n",
    "    df = pd.read_csv(StringIO.StringIO(data), sep = '\\t')\n",
    "    return df"
   ]
  },
  {
   "cell_type": "markdown",
   "metadata": {},
   "source": [
    "## Warm-up or a few simple SQL-queries\n",
    "Let's investigate what data we have in table `visits_all` loaded using Logs API."
   ]
  },
  {
   "cell_type": "code",
   "execution_count": 2,
   "metadata": {
    "collapsed": false
   },
   "outputs": [
    {
     "name": "stdout",
     "output_type": "stream",
     "text": [
      "CounterID\tUInt32\t\t\n",
      "DateTime\tDateTime\t\t\n",
      "Date\tDate\t\t\n",
      "Duration\tUInt32\t\t\n",
      "IsBounce\tUInt8\t\t\n",
      "PageViews\tInt32\t\t\n",
      "GoalsID\tArray(UInt32)\t\t\n",
      "ClientID\tUInt64\t\t\n",
      "DirectConditionType\tUInt8\t\t\n",
      "PurchaseRevenue\tArray(Float64)\t\t\n",
      "PurchaseID\tArray(String)\t\t\n",
      "LastSearchEngine\tString\t\t\n",
      "LastAdvEngine\tString\t\t\n",
      "LastTraficSource\tString\t\t\n",
      "VisitID\tUInt64\t\t\n",
      "UTMMedium\tString\t\t\n",
      "StartURL\tString\t\t\n",
      "ImpressionsProductID\tArray(String)\t\t\n",
      "\n"
     ]
    }
   ],
   "source": [
    "q = '''DESCRIBE visits_all'''\n",
    "print get_clickhouse_data(q)"
   ]
  },
  {
   "cell_type": "markdown",
   "metadata": {},
   "source": [
    "The full list of fields and description of params can be found in Logs API documentation: https://tech.yandex.ru/metrika/doc/api2/logs/intro-docpage/"
   ]
  },
  {
   "cell_type": "code",
   "execution_count": 3,
   "metadata": {
    "collapsed": false
   },
   "outputs": [
    {
     "data": {
      "text/html": [
       "<div>\n",
       "<table border=\"1\" class=\"dataframe\">\n",
       "  <thead>\n",
       "    <tr style=\"text-align: right;\">\n",
       "      <th></th>\n",
       "      <th>CounterID</th>\n",
       "      <th>DateTime</th>\n",
       "      <th>Date</th>\n",
       "      <th>Duration</th>\n",
       "      <th>IsBounce</th>\n",
       "      <th>PageViews</th>\n",
       "      <th>GoalsID</th>\n",
       "      <th>ClientID</th>\n",
       "      <th>DirectConditionType</th>\n",
       "      <th>PurchaseRevenue</th>\n",
       "      <th>PurchaseID</th>\n",
       "      <th>LastSearchEngine</th>\n",
       "      <th>LastAdvEngine</th>\n",
       "      <th>LastTraficSource</th>\n",
       "      <th>VisitID</th>\n",
       "      <th>UTMMedium</th>\n",
       "      <th>StartURL</th>\n",
       "      <th>ImpressionsProductID</th>\n",
       "    </tr>\n",
       "  </thead>\n",
       "  <tbody>\n",
       "    <tr>\n",
       "      <th>0</th>\n",
       "      <td>6375151</td>\n",
       "      <td>2015-12-01 09:31:49</td>\n",
       "      <td>2015-12-01</td>\n",
       "      <td>4</td>\n",
       "      <td>1</td>\n",
       "      <td>1</td>\n",
       "      <td>[]</td>\n",
       "      <td>0</td>\n",
       "      <td>0</td>\n",
       "      <td>[]</td>\n",
       "      <td>[]</td>\n",
       "      <td>yandex</td>\n",
       "      <td>market</td>\n",
       "      <td>ad</td>\n",
       "      <td>5934905382539739018</td>\n",
       "      <td>cpc</td>\n",
       "      <td>http://220-volt.ru/catalog-156860/?ref=yamar&amp;y...</td>\n",
       "      <td>['156860']</td>\n",
       "    </tr>\n",
       "    <tr>\n",
       "      <th>1</th>\n",
       "      <td>6375151</td>\n",
       "      <td>2015-12-01 21:33:12</td>\n",
       "      <td>2015-12-01</td>\n",
       "      <td>0</td>\n",
       "      <td>1</td>\n",
       "      <td>1</td>\n",
       "      <td>[]</td>\n",
       "      <td>0</td>\n",
       "      <td>0</td>\n",
       "      <td>[]</td>\n",
       "      <td>[]</td>\n",
       "      <td>yandex</td>\n",
       "      <td>NaN</td>\n",
       "      <td>organic</td>\n",
       "      <td>5935082670770524045</td>\n",
       "      <td>NaN</td>\n",
       "      <td>http://m.220-volt.ru/catalog/svetodiodnyj-zana...</td>\n",
       "      <td>[]</td>\n",
       "    </tr>\n",
       "    <tr>\n",
       "      <th>2</th>\n",
       "      <td>6375151</td>\n",
       "      <td>2015-12-01 08:54:22</td>\n",
       "      <td>2015-12-01</td>\n",
       "      <td>1</td>\n",
       "      <td>1</td>\n",
       "      <td>1</td>\n",
       "      <td>[]</td>\n",
       "      <td>0</td>\n",
       "      <td>0</td>\n",
       "      <td>[]</td>\n",
       "      <td>[]</td>\n",
       "      <td>yandex</td>\n",
       "      <td>market</td>\n",
       "      <td>ad</td>\n",
       "      <td>5934896179407679609</td>\n",
       "      <td>cpc</td>\n",
       "      <td>http://220-volt.ru/catalog-210053/?ref=yamar&amp;y...</td>\n",
       "      <td>['210053']</td>\n",
       "    </tr>\n",
       "    <tr>\n",
       "      <th>3</th>\n",
       "      <td>6375151</td>\n",
       "      <td>2015-12-01 10:56:43</td>\n",
       "      <td>2015-12-01</td>\n",
       "      <td>0</td>\n",
       "      <td>1</td>\n",
       "      <td>1</td>\n",
       "      <td>[]</td>\n",
       "      <td>0</td>\n",
       "      <td>0</td>\n",
       "      <td>[]</td>\n",
       "      <td>[]</td>\n",
       "      <td>NaN</td>\n",
       "      <td>NaN</td>\n",
       "      <td>direct</td>\n",
       "      <td>5934926249142175607</td>\n",
       "      <td>NaN</td>\n",
       "      <td>http://ulyanovsk.220-volt.ru/catalog-59739/</td>\n",
       "      <td>[]</td>\n",
       "    </tr>\n",
       "    <tr>\n",
       "      <th>4</th>\n",
       "      <td>6375151</td>\n",
       "      <td>2015-12-01 15:25:47</td>\n",
       "      <td>2015-12-01</td>\n",
       "      <td>171</td>\n",
       "      <td>0</td>\n",
       "      <td>6</td>\n",
       "      <td>[]</td>\n",
       "      <td>0</td>\n",
       "      <td>0</td>\n",
       "      <td>[]</td>\n",
       "      <td>[]</td>\n",
       "      <td>NaN</td>\n",
       "      <td>NaN</td>\n",
       "      <td>direct</td>\n",
       "      <td>5934992373385930594</td>\n",
       "      <td>NaN</td>\n",
       "      <td>http://m.220-volt.ru/catalog/2-55/</td>\n",
       "      <td>[]</td>\n",
       "    </tr>\n",
       "  </tbody>\n",
       "</table>\n",
       "</div>"
      ],
      "text/plain": [
       "   CounterID             DateTime        Date  Duration  IsBounce  PageViews  \\\n",
       "0    6375151  2015-12-01 09:31:49  2015-12-01         4         1          1   \n",
       "1    6375151  2015-12-01 21:33:12  2015-12-01         0         1          1   \n",
       "2    6375151  2015-12-01 08:54:22  2015-12-01         1         1          1   \n",
       "3    6375151  2015-12-01 10:56:43  2015-12-01         0         1          1   \n",
       "4    6375151  2015-12-01 15:25:47  2015-12-01       171         0          6   \n",
       "\n",
       "  GoalsID  ClientID  DirectConditionType PurchaseRevenue PurchaseID  \\\n",
       "0      []         0                    0              []         []   \n",
       "1      []         0                    0              []         []   \n",
       "2      []         0                    0              []         []   \n",
       "3      []         0                    0              []         []   \n",
       "4      []         0                    0              []         []   \n",
       "\n",
       "  LastSearchEngine LastAdvEngine LastTraficSource              VisitID  \\\n",
       "0           yandex        market               ad  5934905382539739018   \n",
       "1           yandex           NaN          organic  5935082670770524045   \n",
       "2           yandex        market               ad  5934896179407679609   \n",
       "3              NaN           NaN           direct  5934926249142175607   \n",
       "4              NaN           NaN           direct  5934992373385930594   \n",
       "\n",
       "  UTMMedium                                           StartURL  \\\n",
       "0       cpc  http://220-volt.ru/catalog-156860/?ref=yamar&y...   \n",
       "1       NaN  http://m.220-volt.ru/catalog/svetodiodnyj-zana...   \n",
       "2       cpc  http://220-volt.ru/catalog-210053/?ref=yamar&y...   \n",
       "3       NaN        http://ulyanovsk.220-volt.ru/catalog-59739/   \n",
       "4       NaN                 http://m.220-volt.ru/catalog/2-55/   \n",
       "\n",
       "  ImpressionsProductID  \n",
       "0           ['156860']  \n",
       "1                   []  \n",
       "2           ['210053']  \n",
       "3                   []  \n",
       "4                   []  "
      ]
     },
     "execution_count": 3,
     "metadata": {},
     "output_type": "execute_result"
    }
   ],
   "source": [
    "q = '''\n",
    "    SELECT * FROM visits_all \n",
    "    LIMIT 5\n",
    "    FORMAT TabSeparatedWithNames\n",
    "    '''\n",
    "get_clickhouse_df(q)"
   ]
  },
  {
   "cell_type": "code",
   "execution_count": 4,
   "metadata": {
    "collapsed": false
   },
   "outputs": [
    {
     "data": {
      "text/html": [
       "<div>\n",
       "<table border=\"1\" class=\"dataframe\">\n",
       "  <thead>\n",
       "    <tr style=\"text-align: right;\">\n",
       "      <th></th>\n",
       "      <th>min(Date)</th>\n",
       "      <th>max(Date)</th>\n",
       "    </tr>\n",
       "  </thead>\n",
       "  <tbody>\n",
       "    <tr>\n",
       "      <th>0</th>\n",
       "      <td>2015-12-01</td>\n",
       "      <td>2015-12-31</td>\n",
       "    </tr>\n",
       "  </tbody>\n",
       "</table>\n",
       "</div>"
      ],
      "text/plain": [
       "    min(Date)   max(Date)\n",
       "0  2015-12-01  2015-12-31"
      ]
     },
     "execution_count": 4,
     "metadata": {},
     "output_type": "execute_result"
    }
   ],
   "source": [
    "q = '''\n",
    "    SELECT min(Date), max(Date)\n",
    "    FROM visits_all\n",
    "    FORMAT TabSeparatedWithNames\n",
    "'''\n",
    "get_clickhouse_df(q)"
   ]
  },
  {
   "cell_type": "markdown",
   "metadata": {},
   "source": [
    "Let's calculate total number of visits, users, purchases and revenue.\n",
    "\n",
    "__Disclaimer: revenue has been multiplied by some random number.__"
   ]
  },
  {
   "cell_type": "code",
   "execution_count": 5,
   "metadata": {
    "collapsed": false
   },
   "outputs": [
    {
     "data": {
      "text/html": [
       "<div>\n",
       "<table border=\"1\" class=\"dataframe\">\n",
       "  <thead>\n",
       "    <tr style=\"text-align: right;\">\n",
       "      <th></th>\n",
       "      <th>TotalVisits</th>\n",
       "      <th>TotalUsers</th>\n",
       "      <th>TotalPurchases</th>\n",
       "      <th>TotalRevenue</th>\n",
       "    </tr>\n",
       "  </thead>\n",
       "  <tbody>\n",
       "    <tr>\n",
       "      <th>0</th>\n",
       "      <td>5451184</td>\n",
       "      <td>2976586</td>\n",
       "      <td>70464</td>\n",
       "      <td>8336006970</td>\n",
       "    </tr>\n",
       "  </tbody>\n",
       "</table>\n",
       "</div>"
      ],
      "text/plain": [
       "   TotalVisits  TotalUsers  TotalPurchases  TotalRevenue\n",
       "0      5451184     2976586           70464    8336006970"
      ]
     },
     "execution_count": 5,
     "metadata": {},
     "output_type": "execute_result"
    }
   ],
   "source": [
    "q = '''\n",
    "    SELECT \n",
    "        count() as TotalVisits,\n",
    "        uniq(ClientID) as TotalUsers,\n",
    "        sum(length(PurchaseID)) as TotalPurchases,\n",
    "        sum(arraySum(PurchaseRevenue)) as TotalRevenue\n",
    "    FROM visits_all\n",
    "    FORMAT TabSeparatedWithNames\n",
    "'''\n",
    "get_clickhouse_df(q)"
   ]
  },
  {
   "cell_type": "markdown",
   "metadata": {},
   "source": [
    "## Paths to conversion (purchase)\n",
    "\n",
    "First of all, let's look at visits with purchases"
   ]
  },
  {
   "cell_type": "code",
   "execution_count": 7,
   "metadata": {
    "collapsed": false
   },
   "outputs": [
    {
     "data": {
      "text/html": [
       "<div>\n",
       "<table border=\"1\" class=\"dataframe\">\n",
       "  <thead>\n",
       "    <tr style=\"text-align: right;\">\n",
       "      <th></th>\n",
       "      <th>LastTraficSource</th>\n",
       "      <th>ClientID</th>\n",
       "      <th>VisitID</th>\n",
       "    </tr>\n",
       "  </thead>\n",
       "  <tbody>\n",
       "    <tr>\n",
       "      <th>0</th>\n",
       "      <td>direct</td>\n",
       "      <td>14466379051005714998</td>\n",
       "      <td>5939061898048872152</td>\n",
       "    </tr>\n",
       "    <tr>\n",
       "      <th>1</th>\n",
       "      <td>organic</td>\n",
       "      <td>1450082044461071361</td>\n",
       "      <td>5939344097664677658</td>\n",
       "    </tr>\n",
       "    <tr>\n",
       "      <th>2</th>\n",
       "      <td>referral</td>\n",
       "      <td>1449992588546282437</td>\n",
       "      <td>5939169643029919526</td>\n",
       "    </tr>\n",
       "    <tr>\n",
       "      <th>3</th>\n",
       "      <td>organic</td>\n",
       "      <td>1446633457145398431</td>\n",
       "      <td>5939217871051015961</td>\n",
       "    </tr>\n",
       "    <tr>\n",
       "      <th>4</th>\n",
       "      <td>direct</td>\n",
       "      <td>1448190872275658371</td>\n",
       "      <td>5939249704137096911</td>\n",
       "    </tr>\n",
       "  </tbody>\n",
       "</table>\n",
       "</div>"
      ],
      "text/plain": [
       "  LastTraficSource              ClientID              VisitID\n",
       "0           direct  14466379051005714998  5939061898048872152\n",
       "1          organic   1450082044461071361  5939344097664677658\n",
       "2         referral   1449992588546282437  5939169643029919526\n",
       "3          organic   1446633457145398431  5939217871051015961\n",
       "4           direct   1448190872275658371  5939249704137096911"
      ]
     },
     "execution_count": 7,
     "metadata": {},
     "output_type": "execute_result"
    }
   ],
   "source": [
    "q = '''\n",
    "    SELECT \n",
    "        LastTraficSource,\n",
    "        ClientID,\n",
    "        VisitID\n",
    "    FROM visits_all\n",
    "    WHERE (ClientID != 0) AND (length(PurchaseID) != 0)\n",
    "    LIMIT 5\n",
    "    FORMAT TabSeparatedWithNames\n",
    "'''\n",
    "\n",
    "get_clickhouse_df(q)"
   ]
  },
  {
   "cell_type": "markdown",
   "metadata": {},
   "source": [
    "To construct paths we need to define for each purchase which traffic sources client had in visits preceeding purchase. To do this we need to join table `visits_all` with itself using `ClientID`."
   ]
  },
  {
   "cell_type": "code",
   "execution_count": 8,
   "metadata": {
    "collapsed": false
   },
   "outputs": [
    {
     "data": {
      "text/html": [
       "<div>\n",
       "<table border=\"1\" class=\"dataframe\">\n",
       "  <thead>\n",
       "    <tr style=\"text-align: right;\">\n",
       "      <th></th>\n",
       "      <th>ClientID</th>\n",
       "      <th>VisitID</th>\n",
       "      <th>PurchaseTime</th>\n",
       "      <th>DateTime</th>\n",
       "      <th>LastTraficSource</th>\n",
       "    </tr>\n",
       "  </thead>\n",
       "  <tbody>\n",
       "    <tr>\n",
       "      <th>0</th>\n",
       "      <td>1446494115200148125</td>\n",
       "      <td>5935388931880519536</td>\n",
       "      <td>2015-12-02 18:19:23</td>\n",
       "      <td>2015-12-02 18:19:23</td>\n",
       "      <td>direct</td>\n",
       "    </tr>\n",
       "    <tr>\n",
       "      <th>1</th>\n",
       "      <td>1449082733165609622</td>\n",
       "      <td>5935444959877079158</td>\n",
       "      <td>2015-12-02 22:07:21</td>\n",
       "      <td>2015-12-02 22:07:21</td>\n",
       "      <td>ad</td>\n",
       "    </tr>\n",
       "    <tr>\n",
       "      <th>2</th>\n",
       "      <td>14466379051005714998</td>\n",
       "      <td>5939061898048872152</td>\n",
       "      <td>2015-12-13 03:24:43</td>\n",
       "      <td>2015-12-04 08:29:26</td>\n",
       "      <td>direct</td>\n",
       "    </tr>\n",
       "    <tr>\n",
       "      <th>3</th>\n",
       "      <td>14466379051005714998</td>\n",
       "      <td>5939061898048872152</td>\n",
       "      <td>2015-12-13 03:24:43</td>\n",
       "      <td>2015-12-13 03:24:43</td>\n",
       "      <td>direct</td>\n",
       "    </tr>\n",
       "    <tr>\n",
       "      <th>4</th>\n",
       "      <td>1450082044461071361</td>\n",
       "      <td>5939344097664677658</td>\n",
       "      <td>2015-12-13 22:33:00</td>\n",
       "      <td>2015-12-13 22:33:00</td>\n",
       "      <td>organic</td>\n",
       "    </tr>\n",
       "  </tbody>\n",
       "</table>\n",
       "</div>"
      ],
      "text/plain": [
       "               ClientID              VisitID         PurchaseTime  \\\n",
       "0   1446494115200148125  5935388931880519536  2015-12-02 18:19:23   \n",
       "1   1449082733165609622  5935444959877079158  2015-12-02 22:07:21   \n",
       "2  14466379051005714998  5939061898048872152  2015-12-13 03:24:43   \n",
       "3  14466379051005714998  5939061898048872152  2015-12-13 03:24:43   \n",
       "4   1450082044461071361  5939344097664677658  2015-12-13 22:33:00   \n",
       "\n",
       "              DateTime LastTraficSource  \n",
       "0  2015-12-02 18:19:23           direct  \n",
       "1  2015-12-02 22:07:21               ad  \n",
       "2  2015-12-04 08:29:26           direct  \n",
       "3  2015-12-13 03:24:43           direct  \n",
       "4  2015-12-13 22:33:00          organic  "
      ]
     },
     "execution_count": 8,
     "metadata": {},
     "output_type": "execute_result"
    }
   ],
   "source": [
    "q = '''\n",
    "    SELECT \n",
    "        ClientID,\n",
    "        VisitID,\n",
    "        PurchaseTime,\n",
    "        DateTime,\n",
    "        LastTraficSource\n",
    "    FROM\n",
    "        (SELECT \n",
    "            ClientID,\n",
    "            DateTime as PurchaseTime, \n",
    "            VisitID\n",
    "        FROM visits_all\n",
    "        WHERE (ClientID != 0) AND (length(PurchaseID) != 0))\n",
    "        ALL LEFT JOIN\n",
    "        (SELECT \n",
    "            ClientID,\n",
    "            LastTraficSource,\n",
    "            DateTime\n",
    "        FROM visits_all\n",
    "        ORDER BY DateTime)\n",
    "        USING ClientID\n",
    "    WHERE PurchaseTime >= DateTime\n",
    "    LIMIT 5\n",
    "    FORMAT TabSeparatedWithNames\n",
    "'''\n",
    "\n",
    "get_clickhouse_df(q)"
   ]
  },
  {
   "cell_type": "markdown",
   "metadata": {},
   "source": [
    "Now let's group rows by `VisitID` and using function `groupArray` make arrays from traffic sources."
   ]
  },
  {
   "cell_type": "code",
   "execution_count": 9,
   "metadata": {
    "collapsed": false
   },
   "outputs": [
    {
     "data": {
      "text/html": [
       "<div>\n",
       "<table border=\"1\" class=\"dataframe\">\n",
       "  <thead>\n",
       "    <tr style=\"text-align: right;\">\n",
       "      <th></th>\n",
       "      <th>VisitID</th>\n",
       "      <th>Sources</th>\n",
       "    </tr>\n",
       "  </thead>\n",
       "  <tbody>\n",
       "    <tr>\n",
       "      <th>0</th>\n",
       "      <td>5942036913160910687</td>\n",
       "      <td>['ad','ad','ad','ad','ad']</td>\n",
       "    </tr>\n",
       "    <tr>\n",
       "      <th>1</th>\n",
       "      <td>5944887285864662889</td>\n",
       "      <td>['ad','internal','ad']</td>\n",
       "    </tr>\n",
       "    <tr>\n",
       "      <th>2</th>\n",
       "      <td>5936327790758690505</td>\n",
       "      <td>['ad']</td>\n",
       "    </tr>\n",
       "    <tr>\n",
       "      <th>3</th>\n",
       "      <td>5939577186123655034</td>\n",
       "      <td>['direct','direct','ad','direct','direct','dir...</td>\n",
       "    </tr>\n",
       "    <tr>\n",
       "      <th>4</th>\n",
       "      <td>5935674958795425569</td>\n",
       "      <td>['social']</td>\n",
       "    </tr>\n",
       "  </tbody>\n",
       "</table>\n",
       "</div>"
      ],
      "text/plain": [
       "               VisitID                                            Sources\n",
       "0  5942036913160910687                         ['ad','ad','ad','ad','ad']\n",
       "1  5944887285864662889                             ['ad','internal','ad']\n",
       "2  5936327790758690505                                             ['ad']\n",
       "3  5939577186123655034  ['direct','direct','ad','direct','direct','dir...\n",
       "4  5935674958795425569                                         ['social']"
      ]
     },
     "execution_count": 9,
     "metadata": {},
     "output_type": "execute_result"
    }
   ],
   "source": [
    "q = '''\n",
    "    SELECT \n",
    "        VisitID,\n",
    "        groupArray(LastTraficSource) as Sources\n",
    "    FROM\n",
    "        (SELECT \n",
    "            ClientID,\n",
    "            DateTime as PurchaseTime, \n",
    "            VisitID\n",
    "        FROM visits_all\n",
    "        WHERE (ClientID != 0) AND (length(PurchaseID) != 0))\n",
    "        ALL LEFT JOIN\n",
    "        (SELECT \n",
    "            ClientID,\n",
    "            LastTraficSource,\n",
    "            DateTime\n",
    "        FROM visits_all\n",
    "        ORDER BY DateTime)\n",
    "        USING ClientID\n",
    "    WHERE PurchaseTime >= DateTime\n",
    "    GROUP BY VisitID\n",
    "    LIMIT 5\n",
    "    FORMAT TabSeparatedWithNames\n",
    "'''\n",
    "\n",
    "get_clickhouse_df(q)"
   ]
  },
  {
   "cell_type": "markdown",
   "metadata": {},
   "source": [
    "And finally we need to calculate how many times we see each path."
   ]
  },
  {
   "cell_type": "code",
   "execution_count": 10,
   "metadata": {
    "collapsed": false
   },
   "outputs": [
    {
     "name": "stdout",
     "output_type": "stream",
     "text": [
      "CPU times: user 5.26 ms, sys: 1.73 ms, total: 6.99 ms\n",
      "Wall time: 2.67 s\n"
     ]
    },
    {
     "data": {
      "text/html": [
       "<div>\n",
       "<table border=\"1\" class=\"dataframe\">\n",
       "  <thead>\n",
       "    <tr style=\"text-align: right;\">\n",
       "      <th></th>\n",
       "      <th>Sources</th>\n",
       "      <th>TotalNumPurchases</th>\n",
       "    </tr>\n",
       "  </thead>\n",
       "  <tbody>\n",
       "    <tr>\n",
       "      <th>0</th>\n",
       "      <td>['ad','ad']</td>\n",
       "      <td>2200</td>\n",
       "    </tr>\n",
       "    <tr>\n",
       "      <th>1</th>\n",
       "      <td>['organic','organic']</td>\n",
       "      <td>2159</td>\n",
       "    </tr>\n",
       "    <tr>\n",
       "      <th>2</th>\n",
       "      <td>['organic','ad']</td>\n",
       "      <td>1701</td>\n",
       "    </tr>\n",
       "    <tr>\n",
       "      <th>3</th>\n",
       "      <td>['direct','direct']</td>\n",
       "      <td>989</td>\n",
       "    </tr>\n",
       "    <tr>\n",
       "      <th>4</th>\n",
       "      <td>['ad','ad','ad']</td>\n",
       "      <td>903</td>\n",
       "    </tr>\n",
       "  </tbody>\n",
       "</table>\n",
       "</div>"
      ],
      "text/plain": [
       "                 Sources  TotalNumPurchases\n",
       "0            ['ad','ad']               2200\n",
       "1  ['organic','organic']               2159\n",
       "2       ['organic','ad']               1701\n",
       "3    ['direct','direct']                989\n",
       "4       ['ad','ad','ad']                903"
      ]
     },
     "execution_count": 10,
     "metadata": {},
     "output_type": "execute_result"
    }
   ],
   "source": [
    "q = '''\n",
    "    SELECT \n",
    "        Sources, \n",
    "        sum(NumPurchases) as TotalNumPurchases\n",
    "    FROM\n",
    "        (SELECT \n",
    "            any(NumPurchases) as NumPurchases,\n",
    "            VisitID,\n",
    "            groupArray(LastTraficSource) as Sources\n",
    "        FROM\n",
    "            (SELECT \n",
    "                length(PurchaseID) as NumPurchases,\n",
    "                ClientID,\n",
    "                DateTime as PurchaseTime, \n",
    "                VisitID\n",
    "            FROM visits_all\n",
    "            WHERE (ClientID != 0) AND (length(PurchaseID) != 0))\n",
    "            ALL LEFT JOIN\n",
    "            (SELECT \n",
    "                ClientID,\n",
    "                LastTraficSource,\n",
    "                DateTime\n",
    "            FROM visits_all\n",
    "            ORDER BY DateTime)\n",
    "            USING ClientID\n",
    "        WHERE PurchaseTime >= DateTime\n",
    "        GROUP BY VisitID)\n",
    "    WHERE length(Sources) >= 2\n",
    "    GROUP BY Sources\n",
    "    ORDER BY TotalNumPurchases DESC\n",
    "    LIMIT 5\n",
    "    FORMAT TabSeparatedWithNames\n",
    "'''\n",
    "\n",
    "%time get_clickhouse_df(q)"
   ]
  },
  {
   "cell_type": "markdown",
   "metadata": {},
   "source": [
    "We have achieved our first results :) We have constructed the conversion paths of standard Yandex.Metrika traffic sources.\n",
    "\n",
    "Actually we want to divide traffic in a bit different channels:\n",
    "* __CPA__ (`UTMMedium` equals `CPA` or `cpa`)\n",
    "* __CPC__ (`UTMMedium` equals `cpc`)\n",
    "* __MarketPlace__ (`UTMMedium` equals `marketplace` or it's ad traffic from Yandex.Market)\n",
    "* __Retargeting__ (using `DirectConditionType` or by `ref=ga_ref` in URL)\n",
    "* __Media__ - other ad visits\n",
    "* Let's group sources Direct, Saved pages and internal in one group __Direct__\n",
    "\n",
    "\n",
    "Let's try do it in ClickHouse."
   ]
  },
  {
   "cell_type": "code",
   "execution_count": 11,
   "metadata": {
    "collapsed": false
   },
   "outputs": [
    {
     "data": {
      "text/html": [
       "<div>\n",
       "<table border=\"1\" class=\"dataframe\">\n",
       "  <thead>\n",
       "    <tr style=\"text-align: right;\">\n",
       "      <th></th>\n",
       "      <th>LastTraficSource</th>\n",
       "      <th>UTMMedium</th>\n",
       "      <th>StartURL</th>\n",
       "      <th>LastAdvEngine</th>\n",
       "      <th>LastSearchEngine</th>\n",
       "      <th>Source</th>\n",
       "      <th>SourceDetailed</th>\n",
       "    </tr>\n",
       "  </thead>\n",
       "  <tbody>\n",
       "    <tr>\n",
       "      <th>0</th>\n",
       "      <td>ad</td>\n",
       "      <td>cpc</td>\n",
       "      <td>http://220-volt.ru/catalog-156860/?ref=yamar&amp;y...</td>\n",
       "      <td>market</td>\n",
       "      <td>yandex</td>\n",
       "      <td>cpc</td>\n",
       "      <td>cpc market</td>\n",
       "    </tr>\n",
       "    <tr>\n",
       "      <th>1</th>\n",
       "      <td>organic</td>\n",
       "      <td>NaN</td>\n",
       "      <td>http://m.220-volt.ru/catalog/svetodiodnyj-zana...</td>\n",
       "      <td>NaN</td>\n",
       "      <td>yandex</td>\n",
       "      <td>organic</td>\n",
       "      <td>organic yandex</td>\n",
       "    </tr>\n",
       "    <tr>\n",
       "      <th>2</th>\n",
       "      <td>ad</td>\n",
       "      <td>cpc</td>\n",
       "      <td>http://220-volt.ru/catalog-210053/?ref=yamar&amp;y...</td>\n",
       "      <td>market</td>\n",
       "      <td>yandex</td>\n",
       "      <td>cpc</td>\n",
       "      <td>cpc market</td>\n",
       "    </tr>\n",
       "    <tr>\n",
       "      <th>3</th>\n",
       "      <td>direct</td>\n",
       "      <td>NaN</td>\n",
       "      <td>http://ulyanovsk.220-volt.ru/catalog-59739/</td>\n",
       "      <td>NaN</td>\n",
       "      <td>NaN</td>\n",
       "      <td>direct</td>\n",
       "      <td>direct</td>\n",
       "    </tr>\n",
       "    <tr>\n",
       "      <th>4</th>\n",
       "      <td>direct</td>\n",
       "      <td>NaN</td>\n",
       "      <td>http://m.220-volt.ru/catalog/2-55/</td>\n",
       "      <td>NaN</td>\n",
       "      <td>NaN</td>\n",
       "      <td>direct</td>\n",
       "      <td>direct</td>\n",
       "    </tr>\n",
       "    <tr>\n",
       "      <th>5</th>\n",
       "      <td>organic</td>\n",
       "      <td>NaN</td>\n",
       "      <td>http://omsk.220-volt.ru/catalog/</td>\n",
       "      <td>NaN</td>\n",
       "      <td>yandex</td>\n",
       "      <td>organic</td>\n",
       "      <td>organic yandex</td>\n",
       "    </tr>\n",
       "    <tr>\n",
       "      <th>6</th>\n",
       "      <td>ad</td>\n",
       "      <td>NaN</td>\n",
       "      <td>http://m.220-volt.ru/catalog-53213/?ref=ga_ret</td>\n",
       "      <td>google_adwords</td>\n",
       "      <td>NaN</td>\n",
       "      <td>media_ad</td>\n",
       "      <td>media_ad google_adwords</td>\n",
       "    </tr>\n",
       "    <tr>\n",
       "      <th>7</th>\n",
       "      <td>ad</td>\n",
       "      <td>NaN</td>\n",
       "      <td>http://m.220-volt.ru/catalog-220325/?ref=ga_ret</td>\n",
       "      <td>google_adwords</td>\n",
       "      <td>NaN</td>\n",
       "      <td>media_ad</td>\n",
       "      <td>media_ad google_adwords</td>\n",
       "    </tr>\n",
       "    <tr>\n",
       "      <th>8</th>\n",
       "      <td>organic</td>\n",
       "      <td>NaN</td>\n",
       "      <td>http://kemerovo.220-volt.ru/catalog/svarochie-...</td>\n",
       "      <td>NaN</td>\n",
       "      <td>yandex</td>\n",
       "      <td>organic</td>\n",
       "      <td>organic yandex</td>\n",
       "    </tr>\n",
       "    <tr>\n",
       "      <th>9</th>\n",
       "      <td>organic</td>\n",
       "      <td>NaN</td>\n",
       "      <td>http://220-volt.ru/catalog-136605/</td>\n",
       "      <td>NaN</td>\n",
       "      <td>google</td>\n",
       "      <td>organic</td>\n",
       "      <td>organic google</td>\n",
       "    </tr>\n",
       "  </tbody>\n",
       "</table>\n",
       "</div>"
      ],
      "text/plain": [
       "  LastTraficSource UTMMedium  \\\n",
       "0               ad       cpc   \n",
       "1          organic       NaN   \n",
       "2               ad       cpc   \n",
       "3           direct       NaN   \n",
       "4           direct       NaN   \n",
       "5          organic       NaN   \n",
       "6               ad       NaN   \n",
       "7               ad       NaN   \n",
       "8          organic       NaN   \n",
       "9          organic       NaN   \n",
       "\n",
       "                                            StartURL   LastAdvEngine  \\\n",
       "0  http://220-volt.ru/catalog-156860/?ref=yamar&y...          market   \n",
       "1  http://m.220-volt.ru/catalog/svetodiodnyj-zana...             NaN   \n",
       "2  http://220-volt.ru/catalog-210053/?ref=yamar&y...          market   \n",
       "3        http://ulyanovsk.220-volt.ru/catalog-59739/             NaN   \n",
       "4                 http://m.220-volt.ru/catalog/2-55/             NaN   \n",
       "5                   http://omsk.220-volt.ru/catalog/             NaN   \n",
       "6     http://m.220-volt.ru/catalog-53213/?ref=ga_ret  google_adwords   \n",
       "7    http://m.220-volt.ru/catalog-220325/?ref=ga_ret  google_adwords   \n",
       "8  http://kemerovo.220-volt.ru/catalog/svarochie-...             NaN   \n",
       "9                 http://220-volt.ru/catalog-136605/             NaN   \n",
       "\n",
       "  LastSearchEngine    Source           SourceDetailed  \n",
       "0           yandex       cpc               cpc market  \n",
       "1           yandex   organic           organic yandex  \n",
       "2           yandex       cpc               cpc market  \n",
       "3              NaN    direct                   direct  \n",
       "4              NaN    direct                   direct  \n",
       "5           yandex   organic           organic yandex  \n",
       "6              NaN  media_ad  media_ad google_adwords  \n",
       "7              NaN  media_ad  media_ad google_adwords  \n",
       "8           yandex   organic           organic yandex  \n",
       "9           google   organic           organic google  "
      ]
     },
     "execution_count": 11,
     "metadata": {},
     "output_type": "execute_result"
    }
   ],
   "source": [
    "q = '''\n",
    "    SELECT \n",
    "        LastTraficSource,\n",
    "        UTMMedium,\n",
    "        StartURL,\n",
    "        LastAdvEngine, \n",
    "        LastSearchEngine,\n",
    "        if(\n",
    "            lower(UTMMedium) IN ('cpa', 'cpc', 'marketplace'), \n",
    "            lower(UTMMedium),\n",
    "            if(\n",
    "                LastTraficSource = 'ad', \n",
    "                if(\n",
    "                    LastAdvEngine = 'market', \n",
    "                    'marketplace',\n",
    "                    if(\n",
    "                        (DirectConditionType = 2) OR (extractURLParameter(StartURL, 'ref') = 'ga_ref'),\n",
    "                        'retargeting',\n",
    "                        'media_ad')\n",
    "                ),\n",
    "                if(\n",
    "                   LastTraficSource IN ('direct', 'saved', 'undefined', 'internal'),\n",
    "                   'direct',\n",
    "                   LastTraficSource\n",
    "                ) \n",
    "            )\n",
    "        ) as Source,\n",
    "        if(Source = 'organic', \n",
    "            if(LastSearchEngine IN ('yandex', 'google'), concat('organic ', LastSearchEngine), 'organic other'),\n",
    "            if(Source IN ('media_ad', 'retargeting', 'cpa', 'cpc'),\n",
    "                if(\n",
    "                    LastAdvEngine IN ('market', 'google_adwords', 'yandex'), \n",
    "                    concat(Source, concat(' ', LastAdvEngine)),\n",
    "                    concat(Source, ' other')\n",
    "                ),\n",
    "                Source\n",
    "            )) as SourceDetailed\n",
    "    FROM visits_all\n",
    "    LIMIT 10\n",
    "    FORMAT TabSeparatedWithNames\n",
    "'''\n",
    "get_clickhouse_df(q)"
   ]
  },
  {
   "cell_type": "markdown",
   "metadata": {},
   "source": [
    "I have added to the script for conversion paths new traffic sources algorithm and got stats by new channels."
   ]
  },
  {
   "cell_type": "code",
   "execution_count": 12,
   "metadata": {
    "collapsed": false
   },
   "outputs": [
    {
     "name": "stdout",
     "output_type": "stream",
     "text": [
      "CPU times: user 6.75 ms, sys: 1.82 ms, total: 8.57 ms\n",
      "Wall time: 6.18 s\n"
     ]
    },
    {
     "data": {
      "text/html": [
       "<div>\n",
       "<table border=\"1\" class=\"dataframe\">\n",
       "  <thead>\n",
       "    <tr style=\"text-align: right;\">\n",
       "      <th></th>\n",
       "      <th>SourcesDetailed</th>\n",
       "      <th>Purchases</th>\n",
       "    </tr>\n",
       "  </thead>\n",
       "  <tbody>\n",
       "    <tr>\n",
       "      <th>0</th>\n",
       "      <td>['organic yandex']</td>\n",
       "      <td>8532</td>\n",
       "    </tr>\n",
       "    <tr>\n",
       "      <th>1</th>\n",
       "      <td>['direct']</td>\n",
       "      <td>4707</td>\n",
       "    </tr>\n",
       "    <tr>\n",
       "      <th>2</th>\n",
       "      <td>['organic google']</td>\n",
       "      <td>3989</td>\n",
       "    </tr>\n",
       "    <tr>\n",
       "      <th>3</th>\n",
       "      <td>['cpc market']</td>\n",
       "      <td>3690</td>\n",
       "    </tr>\n",
       "    <tr>\n",
       "      <th>4</th>\n",
       "      <td>['cpa other']</td>\n",
       "      <td>2249</td>\n",
       "    </tr>\n",
       "    <tr>\n",
       "      <th>5</th>\n",
       "      <td>['cpc yandex']</td>\n",
       "      <td>1966</td>\n",
       "    </tr>\n",
       "    <tr>\n",
       "      <th>6</th>\n",
       "      <td>['cpc other']</td>\n",
       "      <td>1531</td>\n",
       "    </tr>\n",
       "    <tr>\n",
       "      <th>7</th>\n",
       "      <td>['organic yandex','organic yandex']</td>\n",
       "      <td>1321</td>\n",
       "    </tr>\n",
       "    <tr>\n",
       "      <th>8</th>\n",
       "      <td>['direct','direct']</td>\n",
       "      <td>1164</td>\n",
       "    </tr>\n",
       "    <tr>\n",
       "      <th>9</th>\n",
       "      <td>['email']</td>\n",
       "      <td>1044</td>\n",
       "    </tr>\n",
       "  </tbody>\n",
       "</table>\n",
       "</div>"
      ],
      "text/plain": [
       "                       SourcesDetailed  Purchases\n",
       "0                   ['organic yandex']       8532\n",
       "1                           ['direct']       4707\n",
       "2                   ['organic google']       3989\n",
       "3                       ['cpc market']       3690\n",
       "4                        ['cpa other']       2249\n",
       "5                       ['cpc yandex']       1966\n",
       "6                        ['cpc other']       1531\n",
       "7  ['organic yandex','organic yandex']       1321\n",
       "8                  ['direct','direct']       1164\n",
       "9                            ['email']       1044"
      ]
     },
     "execution_count": 12,
     "metadata": {},
     "output_type": "execute_result"
    }
   ],
   "source": [
    "q = '''\n",
    "SELECT \n",
    "    SourcesDetailed, \n",
    "    sum(VisitPurchases) as Purchases\n",
    "    FROM\n",
    "        (SELECT \n",
    "            groupArray(Source) as Sources,\n",
    "            groupArray(SourceDetailed) as SourcesDetailed,\n",
    "            VisitID,\n",
    "            any(ClientID) as ClientID,\n",
    "            any(DateTime) as StartTime,\n",
    "            any(VisitRevenue) as VisitRevenue,\n",
    "            any(VisitPurchases) as VisitPurchases\n",
    "        FROM\n",
    "            (SELECT\n",
    "                ClientID,\n",
    "                DateTime,\n",
    "                VisitRevenue,\n",
    "                VisitPurchases,\n",
    "                Source,\n",
    "                SourceDetailed,\n",
    "                VisitID,\n",
    "                LastSearchEngine,\n",
    "                LastAdvEngine\n",
    "            FROM\n",
    "                (SELECT\n",
    "                    ClientID,\n",
    "                    DateTime as PurchaseTime,\n",
    "                    arraySum(PurchaseRevenue) as VisitRevenue,\n",
    "                    length(PurchaseID) as VisitPurchases,\n",
    "                    LastTraficSource,\n",
    "                    VisitID,\n",
    "                    LastSearchEngine,\n",
    "                    LastAdvEngine\n",
    "                FROM visits_all \n",
    "                WHERE ClientID != 0 AND VisitPurchases != 0)\n",
    "            ALL LEFT JOIN\n",
    "                (SELECT\n",
    "                    ClientID,\n",
    "                    DateTime,\n",
    "                    if(\n",
    "                        lower(UTMMedium) IN ('cpa', 'cpc', 'marketplace'), \n",
    "                        lower(UTMMedium),\n",
    "                        if(\n",
    "                            LastTraficSource = 'ad', \n",
    "                            if(\n",
    "                                LastAdvEngine = 'market', \n",
    "                                'marketplace',\n",
    "                                if(\n",
    "                                    (DirectConditionType = 2) OR (extractURLParameter(StartURL, 'ref') = 'ga_ref'),\n",
    "                                    'retargeting',\n",
    "                                    'media_ad')\n",
    "                            ),\n",
    "                            if(\n",
    "                               LastTraficSource IN ('direct', 'saved', 'undefined', 'internal'),\n",
    "                               'direct',\n",
    "                               LastTraficSource\n",
    "                            ) \n",
    "                        )\n",
    "                    ) as Source,\n",
    "                    if(Source = 'organic', \n",
    "                        if(LastSearchEngine IN ('yandex', 'google'), concat('organic ', LastSearchEngine), 'organic other'),\n",
    "                        if(Source IN ('media_ad', 'retargeting', 'cpa', 'cpc'),\n",
    "                            if(\n",
    "                                LastAdvEngine IN ('market', 'google_adwords', 'yandex'), \n",
    "                                concat(Source, concat(' ', LastAdvEngine)),\n",
    "                                concat(Source, ' other')\n",
    "                            ),\n",
    "                            Source\n",
    "                        )) as SourceDetailed\n",
    "                 FROM visits_all \n",
    "                 ORDER BY DateTime)\n",
    "            USING ClientID\n",
    "            WHERE PurchaseTime >= DateTime)\n",
    "        GROUP BY VisitID)\n",
    "    GROUP BY SourcesDetailed\n",
    "    ORDER BY Purchases DESC\n",
    "    LIMIT 10\n",
    "    FORMAT TabSeparatedWithNames\n",
    "'''\n",
    "\n",
    "%time get_clickhouse_df(q)"
   ]
  },
  {
   "cell_type": "markdown",
   "metadata": {},
   "source": [
    "## Attribution models"
   ]
  },
  {
   "cell_type": "markdown",
   "metadata": {},
   "source": [
    "### Last click model"
   ]
  },
  {
   "cell_type": "code",
   "execution_count": 13,
   "metadata": {
    "collapsed": false
   },
   "outputs": [
    {
     "name": "stdout",
     "output_type": "stream",
     "text": [
      "CPU times: user 11.4 ms, sys: 3.49 ms, total: 14.9 ms\n",
      "Wall time: 2.62 s\n"
     ]
    }
   ],
   "source": [
    "q = '''\n",
    "    SELECT \n",
    "        count() as Visits,\n",
    "        sum(arraySum(PurchaseRevenue)) as Revenue,\n",
    "        sum(length(PurchaseID)) as Purchases,\n",
    "        if(\n",
    "            lower(UTMMedium) IN ('cpa', 'cpc', 'marketplace'), \n",
    "            lower(UTMMedium),\n",
    "            if(\n",
    "                LastTraficSource = 'ad', \n",
    "                if(\n",
    "                    LastAdvEngine = 'market', \n",
    "                    'marketplace',\n",
    "                    if(\n",
    "                        (DirectConditionType = 2) OR (extractURLParameter(StartURL, 'ref') = 'ga_ref'),\n",
    "                        'retargeting',\n",
    "                        'media_ad')\n",
    "                ),\n",
    "                if(\n",
    "                   LastTraficSource IN ('direct', 'saved', 'undefined', 'internal'),\n",
    "                   'direct',\n",
    "                   LastTraficSource\n",
    "                ) \n",
    "            )\n",
    "        ) as Source,\n",
    "        if(Source = 'organic', \n",
    "            if(LastSearchEngine IN ('yandex', 'google'), concat('organic ', LastSearchEngine), 'organic other'),\n",
    "            if(Source IN ('media_ad', 'retargeting', 'cpa', 'cpc'),\n",
    "                if(\n",
    "                    LastAdvEngine IN ('market', 'google_adwords', 'yandex'), \n",
    "                    concat(Source, concat(' ', LastAdvEngine)),\n",
    "                    concat(Source, ' other')\n",
    "                ),\n",
    "                Source\n",
    "            )) as SourceDetailed\n",
    "    FROM visits_all\n",
    "    WHERE ClientID != 0\n",
    "    GROUP BY Source, SourceDetailed\n",
    "    FORMAT TabSeparatedWithNames\n",
    "'''\n",
    "\n",
    "%time last_raw_df = get_clickhouse_df(q).groupby(['Source', 'SourceDetailed']).sum()"
   ]
  },
  {
   "cell_type": "code",
   "execution_count": 14,
   "metadata": {
    "collapsed": false
   },
   "outputs": [],
   "source": [
    "last_raw_df_norm = last_raw_df.apply(lambda x: 100.*x/last_raw_df.sum(), axis = 1)"
   ]
  },
  {
   "cell_type": "markdown",
   "metadata": {},
   "source": [
    "### Custom model by behaviour"
   ]
  },
  {
   "cell_type": "markdown",
   "metadata": {},
   "source": [
    "Let's write a base function to calculate custom attribution model:\n",
    "* let's take into account only visits without bounce\n",
    "* traffic sources with achievment \"Addint product to cart\" will have +50% of weight\n",
    "* traffic sources with impressions will have +10% of weight"
   ]
  },
  {
   "cell_type": "code",
   "execution_count": 15,
   "metadata": {
    "collapsed": true
   },
   "outputs": [],
   "source": [
    "def get_attribution_data_sample(i, N, where_condition = ''):\n",
    "    q = '''\n",
    "    SELECT \n",
    "        sum(VisitRevenue*SourceCoefNorm) as Revenue,\n",
    "        sum(VisitPurchases*SourceCoefNorm) as Purchases,\n",
    "        sum(SourceCoefNorm) as Visits,\n",
    "        Source,\n",
    "        SourceDetailed\n",
    "    FROM\n",
    "        (SELECT \n",
    "            groupArray(Source) as Sources,\n",
    "            groupArray(SourceDetailed) as SourcesDetailed,\n",
    "            groupArray(HasCart) as HasCarts,\n",
    "            groupArray(HasImpression) as HasImpressions,\n",
    "            VisitID,\n",
    "            any(ClientID) as ClientID,\n",
    "            any(DateTime) as StartTime,\n",
    "            any(VisitRevenue) as VisitRevenue,\n",
    "            any(VisitPurchases) as VisitPurchases,\n",
    "            arrayMap(x, y -> 1 + 0.5*x + 0.1*y, HasCarts, HasImpressions) as SourcesCoefs,\n",
    "            arraySum(SourcesCoefs) as SourcesCoefsSum,\n",
    "            arrayMap(x -> x/SourcesCoefsSum, SourcesCoefs) as SourcesCoefsNorm\n",
    "        FROM\n",
    "            (SELECT\n",
    "                ClientID,\n",
    "                DateTime,\n",
    "                VisitRevenue,\n",
    "                VisitPurchases,\n",
    "                SourceTime,\n",
    "                Source,\n",
    "                HasCart,\n",
    "                HasImpression,\n",
    "                SourceDetailed,\n",
    "                VisitID,\n",
    "                LastSearchEngine,\n",
    "                LastAdvEngine\n",
    "            FROM\n",
    "                (SELECT\n",
    "                    ClientID,\n",
    "                    DateTime,\n",
    "                    arraySum(PurchaseRevenue) as VisitRevenue,\n",
    "                    length(PurchaseID) as VisitPurchases,\n",
    "                    LastTraficSource,\n",
    "                    VisitID,\n",
    "                    LastSearchEngine,\n",
    "                    LastAdvEngine\n",
    "                FROM visits_all SAMPLE 1/{N} OFFSET {i}/{N}\n",
    "                WHERE ClientID != 0)\n",
    "            ALL LEFT JOIN\n",
    "                (SELECT\n",
    "                    ClientID,\n",
    "                    DateTime as SourceTime,\n",
    "                    if(\n",
    "                        lower(UTMMedium) IN ('cpa', 'cpc', 'marketplace'), \n",
    "                        lower(UTMMedium),\n",
    "                        if(\n",
    "                            LastTraficSource = 'ad', \n",
    "                            if(\n",
    "                                LastAdvEngine = 'market', \n",
    "                                'marketplace',\n",
    "                                if(\n",
    "                                    (DirectConditionType = 2) OR (extractURLParameter(StartURL, 'ref') = 'ga_ref'),\n",
    "                                    'retargeting',\n",
    "                                    'media_ad')\n",
    "                            ),\n",
    "                            if(\n",
    "                               LastTraficSource IN ('direct', 'saved', 'undefined', 'internal'),\n",
    "                               'direct',\n",
    "                               LastTraficSource\n",
    "                            ) \n",
    "                        )\n",
    "                    ) as Source,\n",
    "                    if(Source = 'organic', \n",
    "                        if(LastSearchEngine IN ('yandex', 'google'), concat('organic ', LastSearchEngine), 'organic other'),\n",
    "                        if(Source IN ('media_ad', 'retargeting', 'cpa', 'cpc'),\n",
    "                            if(\n",
    "                                LastAdvEngine IN ('market', 'google_adwords', 'yandex'), \n",
    "                                concat(Source, concat(' ', LastAdvEngine)),\n",
    "                                concat(Source, ' other')\n",
    "                            ),\n",
    "                            Source\n",
    "                        )) as SourceDetailed,\n",
    "                    has(GoalsID, 552829) as HasCart,\n",
    "                    length(ImpressionsProductID) > 0 as HasImpression\n",
    "                 FROM visits_all SAMPLE 1/{N} OFFSET {i}/{N} {where_condition}\n",
    "                 )\n",
    "            USING ClientID\n",
    "            WHERE SourceTime <= DateTime\n",
    "            ORDER BY SourceTime)\n",
    "        GROUP BY VisitID)\n",
    "    ARRAY JOIN\n",
    "        SourcesCoefsNorm as SourceCoefNorm,\n",
    "        Sources as Source,\n",
    "        SourcesDetailed as SourceDetailed\n",
    "    GROUP BY Source, SourceDetailed\n",
    "    ORDER BY Visits DESC\n",
    "    FORMAT TabSeparatedWithNames\n",
    "    '''.format(\n",
    "        i = i, N = N,\n",
    "        where_condition = where_condition\n",
    "    )\n",
    "    # print q\n",
    "    return get_clickhouse_df(q)\n",
    "\n",
    "def get_attribution_data(where_condition=''):\n",
    "    tmp_dfs = []\n",
    "    for i in range(10):\n",
    "        tmp_dfs.append(get_attribution_data_sample(i, 10, where_condition))\n",
    "    \n",
    "    return pd.concat(tmp_dfs).groupby(['Source', 'SourceDetailed']).sum()"
   ]
  },
  {
   "cell_type": "code",
   "execution_count": 16,
   "metadata": {
    "collapsed": false
   },
   "outputs": [
    {
     "name": "stdout",
     "output_type": "stream",
     "text": [
      "CPU times: user 95.5 ms, sys: 13.9 ms, total: 109 ms\n",
      "Wall time: 40.1 s\n"
     ]
    }
   ],
   "source": [
    "%time not_bounce_df = get_attribution_data(where_condition = 'WHERE IsBounce = 0')"
   ]
  },
  {
   "cell_type": "code",
   "execution_count": 17,
   "metadata": {
    "collapsed": true
   },
   "outputs": [],
   "source": [
    "not_bounce_df_norm = not_bounce_df.apply(lambda x: 100.*x/not_bounce_df.sum(), axis = 1)"
   ]
  },
  {
   "cell_type": "markdown",
   "metadata": {},
   "source": [
    "### Custom model with different weights for channels and time decay"
   ]
  },
  {
   "cell_type": "code",
   "execution_count": 18,
   "metadata": {
    "collapsed": true
   },
   "outputs": [],
   "source": [
    "traffic_sources_coeffs = {\n",
    "    'direct': 0.1,\n",
    "    'referral': 0.2,\n",
    "    'social': 0.3,\n",
    "    'cpa': 0.5,\n",
    "    'cpc': 0.5,\n",
    "    'retargeting': 0.3,\n",
    "    'organic': 0.4,\n",
    "    'email': 0.4,\n",
    "    'media_ad': 0.5,\n",
    "    'marketplace': 0.5\n",
    "}"
   ]
  },
  {
   "cell_type": "code",
   "execution_count": 19,
   "metadata": {
    "collapsed": true
   },
   "outputs": [],
   "source": [
    "def get_attribution_data_pos_sample(i, N, traffic_sources_coeffs, where_condition = ''):\n",
    "    q = '''\n",
    "    SELECT \n",
    "        sum(VisitRevenue*SourceCoefNorm) as Revenue,\n",
    "        sum(VisitPurchases*SourceCoefNorm) as Purchases,\n",
    "        sum(SourceCoefNorm) as Visits,\n",
    "        Source,\n",
    "        SourceDetailed\n",
    "    FROM\n",
    "        (SELECT \n",
    "            groupArray(Source) as Sources,\n",
    "            groupArray(SourceDetailed) as SourcesDetailed,\n",
    "            VisitID,\n",
    "            any(ClientID) as ClientID,\n",
    "            any(DateTime) as StartTime,\n",
    "            any(VisitRevenue) as VisitRevenue,\n",
    "            any(VisitPurchases) as VisitPurchases,\n",
    "            arrayMap(x -> transform(x, [{traffic_sources}], [{traffic_sources_coeffs}], 0), Sources) as SourcesRawCoefs,\n",
    "            arrayMap(x -> 1/(length(SourcesRawCoefs) - x), range(length(SourcesRawCoefs))) as PositionCoefs,\n",
    "            arrayMap(x, y -> x * y, SourcesRawCoefs, PositionCoefs) as SourcesCoefs,\n",
    "            arraySum(SourcesCoefs) as SourcesCoefsSum,\n",
    "            arrayMap(x -> x/SourcesCoefsSum, SourcesCoefs) as SourcesCoefsNorm\n",
    "        FROM\n",
    "            (SELECT\n",
    "                ClientID,\n",
    "                DateTime,\n",
    "                VisitRevenue,\n",
    "                VisitPurchases,\n",
    "                SourceTime,\n",
    "                Source,\n",
    "                SourceDetailed,\n",
    "                VisitID,\n",
    "                LastSearchEngine,\n",
    "                LastAdvEngine\n",
    "            FROM\n",
    "                (SELECT\n",
    "                    ClientID,\n",
    "                    DateTime,\n",
    "                    arraySum(PurchaseRevenue) as VisitRevenue,\n",
    "                    length(PurchaseID) as VisitPurchases,\n",
    "                    LastTraficSource,\n",
    "                    VisitID,\n",
    "                    LastSearchEngine,\n",
    "                    LastAdvEngine\n",
    "                FROM visits_all SAMPLE 1/{N} OFFSET {i}/{N}\n",
    "                WHERE ClientID != 0)\n",
    "            ALL LEFT JOIN\n",
    "                (SELECT\n",
    "                    ClientID,\n",
    "                    DateTime as SourceTime,\n",
    "                    if(\n",
    "                        lower(UTMMedium) IN ('cpa', 'cpc', 'marketplace'), \n",
    "                        lower(UTMMedium),\n",
    "                        if(\n",
    "                            LastTraficSource = 'ad', \n",
    "                            if(\n",
    "                                LastAdvEngine = 'market', \n",
    "                                'marketplace',\n",
    "                                if(\n",
    "                                    (DirectConditionType = 2) OR (extractURLParameter(StartURL, 'ref') = 'ga_ref'),\n",
    "                                    'retargeting',\n",
    "                                    'media_ad')\n",
    "                            ),\n",
    "                            if(\n",
    "                               LastTraficSource IN ('direct', 'saved', 'undefined', 'internal'),\n",
    "                               'direct',\n",
    "                               LastTraficSource\n",
    "                            ) \n",
    "                        )\n",
    "                    ) as Source,\n",
    "                    if(Source = 'organic', \n",
    "                        if(LastSearchEngine IN ('yandex', 'google'), concat('organic ', LastSearchEngine), 'organic other'),\n",
    "                        if(Source IN ('media_ad', 'retargeting', 'cpa', 'cpc'),\n",
    "                            if(\n",
    "                                LastAdvEngine IN ('market', 'google_adwords', 'yandex'), \n",
    "                                concat(Source, concat(' ', LastAdvEngine)),\n",
    "                                concat(Source, ' other')\n",
    "                            ),\n",
    "                            Source\n",
    "                        )) as SourceDetailed\n",
    "                 FROM visits_all SAMPLE 1/{N} OFFSET {i}/{N} {where_condition})\n",
    "            USING ClientID\n",
    "            WHERE SourceTime <= DateTime\n",
    "            ORDER BY SourceTime)\n",
    "        GROUP BY VisitID)\n",
    "    ARRAY JOIN\n",
    "        SourcesCoefsNorm as SourceCoefNorm,\n",
    "        Sources as Source,\n",
    "        SourcesDetailed as SourceDetailed\n",
    "    GROUP BY Source, SourceDetailed\n",
    "    ORDER BY Visits DESC\n",
    "    FORMAT TabSeparatedWithNames\n",
    "    '''.format(\n",
    "        traffic_sources = ', '.join(map(lambda x: \"'%s'\" % x, traffic_sources_coeffs.keys())),\n",
    "        traffic_sources_coeffs = ', '.join(map(str, traffic_sources_coeffs.values())),\n",
    "        i = i, N = N,\n",
    "        where_condition = where_condition\n",
    "    )\n",
    "    # print q\n",
    "    return get_clickhouse_df(q)\n",
    "\n",
    "def get_attribution_data_pos(traffic_sources_coeffs, where_condition=''):\n",
    "    tmp_dfs = []\n",
    "    for i in range(10):\n",
    "        tmp_dfs.append(get_attribution_data_pos_sample(i, 10, traffic_sources_coeffs, where_condition))\n",
    "    \n",
    "    return pd.concat(tmp_dfs).groupby(['Source', 'SourceDetailed']).sum()"
   ]
  },
  {
   "cell_type": "code",
   "execution_count": 20,
   "metadata": {
    "collapsed": false
   },
   "outputs": [
    {
     "name": "stdout",
     "output_type": "stream",
     "text": [
      "CPU times: user 80.3 ms, sys: 10.3 ms, total: 90.6 ms\n",
      "Wall time: 33.1 s\n"
     ]
    }
   ],
   "source": [
    "%time not_bounce_pos_df = get_attribution_data_pos(traffic_sources_coeffs, where_condition = 'WHERE IsBounce = 0')"
   ]
  },
  {
   "cell_type": "code",
   "execution_count": 21,
   "metadata": {
    "collapsed": true
   },
   "outputs": [],
   "source": [
    "not_bounce_pos_df_norm = not_bounce_pos_df.apply(lambda x: 100.*x/not_bounce_pos_df.sum(), axis = 1)"
   ]
  },
  {
   "cell_type": "markdown",
   "metadata": {},
   "source": [
    "## Comparison\n",
    "\n",
    "For visualization we'll use `plot.ly` library that allows to get interactive graphs using just python."
   ]
  },
  {
   "cell_type": "code",
   "execution_count": 22,
   "metadata": {
    "collapsed": false
   },
   "outputs": [
    {
     "name": "stdout",
     "output_type": "stream",
     "text": [
      "1.12.9\n"
     ]
    },
    {
     "data": {
      "text/html": [
       "<script>requirejs.config({paths: { 'plotly': ['https://cdn.plot.ly/plotly-latest.min']},});if(!window.Plotly) {{require(['plotly'],function(plotly) {window.Plotly=plotly;});}}</script>"
      ],
      "text/plain": [
       "<IPython.core.display.HTML object>"
      ]
     },
     "metadata": {},
     "output_type": "display_data"
    }
   ],
   "source": [
    "from plotly import __version__\n",
    "from plotly.offline import download_plotlyjs, init_notebook_mode, plot, iplot\n",
    "from plotly import graph_objs as go\n",
    "import requests\n",
    "import StringIO\n",
    "import pandas as pd\n",
    "\n",
    "print __version__ # need 1.9.0 or greater\n",
    "\n",
    "init_notebook_mode(connected = True)\n",
    "\n",
    "def show_bar_plot(cmp_df):\n",
    "    data = []\n",
    "    for column in cmp_df.columns:\n",
    "        trace = go.Bar(\n",
    "            x = cmp_df.index.values,\n",
    "            y = cmp_df[column].values,\n",
    "            name = column\n",
    "        )\n",
    "        data.append(trace)\n",
    "    layout = go.Layout({'xaxis': {'tickangle': 45}})\n",
    "    fig = go.Figure(data = data, layout = layout)\n",
    "    iplot(fig, show_link=False)"
   ]
  },
  {
   "cell_type": "code",
   "execution_count": 23,
   "metadata": {
    "collapsed": false
   },
   "outputs": [],
   "source": [
    "dct = {\n",
    "    'last click': last_raw_df_norm,\n",
    "    'behaviour': not_bounce_df_norm,\n",
    "    'time decay & weights': not_bounce_pos_df_norm,\n",
    "}"
   ]
  },
  {
   "cell_type": "code",
   "execution_count": 24,
   "metadata": {
    "collapsed": true
   },
   "outputs": [],
   "source": [
    "def get_comparison(parameter, detalization, show_delta = False):\n",
    "    cmp_df = pd.DataFrame()\n",
    "    for item in dct:\n",
    "        cmp_df[item] = dct[item].reset_index().groupby(detalization)[parameter].sum()\n",
    "    cmp_df = cmp_df.sort_values('last click', ascending = False)\n",
    "    if not show_delta:\n",
    "        return cmp_df\n",
    "    cmp_df_norm = cmp_df.apply(lambda x: x - cmp_df['last click']).drop('last click', axis = 1).sort_values('behaviour')\n",
    "    return cmp_df_norm"
   ]
  },
  {
   "cell_type": "code",
   "execution_count": 25,
   "metadata": {
    "collapsed": false
   },
   "outputs": [
    {
     "data": {
      "text/html": [
       "<div id=\"231ad3aa-d18d-4ea7-a633-3bac60741cf5\" style=\"height: 525px; width: 100%;\" class=\"plotly-graph-div\"></div><script type=\"text/javascript\">require([\"plotly\"], function(Plotly) { window.PLOTLYENV=window.PLOTLYENV || {};window.PLOTLYENV.BASE_URL=\"https://plot.ly\";Plotly.newPlot(\"231ad3aa-d18d-4ea7-a633-3bac60741cf5\", [{\"y\": [28.733891268672675, 31.381251934700188, 22.832270948354633, 6.453809528942859, 4.888875512749802, 3.5414207028132534, 1.5319689021108724, 0.45042315351965057, 0.17884348144134335, 0.007244566694710566], \"x\": [\"cpc\", \"organic\", \"direct\", \"cpa\", \"media_ad\", \"email\", \"referral\", \"social\", \"marketplace\", \"retargeting\"], \"type\": \"bar\", \"name\": \"behaviour\"}, {\"y\": [28.831808073937, 27.775738068885133, 26.11242687977265, 7.3041374955193765, 4.5194184566952815, 3.281266869957111, 1.5374710917330805, 0.4555384672957698, 0.17085946524149806, 0.011335130963099781], \"x\": [\"cpc\", \"organic\", \"direct\", \"cpa\", \"media_ad\", \"email\", \"referral\", \"social\", \"marketplace\", \"retargeting\"], \"type\": \"bar\", \"name\": \"last click\"}, {\"y\": [31.225894877671465, 31.694608236761038, 18.041906185189546, 7.59931981707346, 5.557470151781223, 3.8140049052562075, 1.4178503591879141, 0.4531988058227903, 0.18781455439703706, 0.007932106859319726], \"x\": [\"cpc\", \"organic\", \"direct\", \"cpa\", \"media_ad\", \"email\", \"referral\", \"social\", \"marketplace\", \"retargeting\"], \"type\": \"bar\", \"name\": \"time decay & weights\"}], {\"xaxis\": {\"tickangle\": 45}}, {\"linkText\": \"Export to plot.ly\", \"showLink\": false})});</script>"
      ],
      "text/plain": [
       "<IPython.core.display.HTML object>"
      ]
     },
     "metadata": {},
     "output_type": "display_data"
    }
   ],
   "source": [
    "show_bar_plot(get_comparison('Revenue', 'Source', show_delta=False))"
   ]
  },
  {
   "cell_type": "code",
   "execution_count": 26,
   "metadata": {
    "collapsed": false
   },
   "outputs": [
    {
     "data": {
      "text/html": [
       "<div id=\"f697fadf-47c9-49a2-b82f-968c15728798\" style=\"height: 525px; width: 100%;\" class=\"plotly-graph-div\"></div><script type=\"text/javascript\">require([\"plotly\"], function(Plotly) { window.PLOTLYENV=window.PLOTLYENV || {};window.PLOTLYENV.BASE_URL=\"https://plot.ly\";Plotly.newPlot(\"f697fadf-47c9-49a2-b82f-968c15728798\", [{\"y\": [-3.2801559314180153, -0.8503279665765175, -0.097916805264326, -0.0055021896222080535, -0.005115313776119235, -0.004090564268389215, 0.00798401619984529, 0.2601538328561426, 0.3694570560545207, 3.6055138658150554], \"x\": [\"direct\", \"cpa\", \"cpc\", \"referral\", \"social\", \"retargeting\", \"marketplace\", \"email\", \"media_ad\", \"organic\"], \"type\": \"bar\", \"name\": \"behaviour\"}, {\"y\": [-8.070520694583102, 0.2951823215540834, 2.3940868037344636, -0.11962073254516636, -0.002339661472979482, -0.003403024103780055, 0.016955089155539005, 0.5327380352990967, 1.038051695085941, 3.9188701678759053], \"x\": [\"direct\", \"cpa\", \"cpc\", \"referral\", \"social\", \"retargeting\", \"marketplace\", \"email\", \"media_ad\", \"organic\"], \"type\": \"bar\", \"name\": \"time decay & weights\"}], {\"xaxis\": {\"tickangle\": 45}}, {\"linkText\": \"Export to plot.ly\", \"showLink\": false})});</script>"
      ],
      "text/plain": [
       "<IPython.core.display.HTML object>"
      ]
     },
     "metadata": {},
     "output_type": "display_data"
    }
   ],
   "source": [
    "show_bar_plot(get_comparison('Revenue', 'Source', show_delta=True))"
   ]
  },
  {
   "cell_type": "code",
   "execution_count": 27,
   "metadata": {
    "collapsed": false
   },
   "outputs": [
    {
     "data": {
      "text/html": [
       "<div id=\"776184c5-5fb3-404b-b295-5b032d6bf9eb\" style=\"height: 525px; width: 100%;\" class=\"plotly-graph-div\"></div><script type=\"text/javascript\">require([\"plotly\"], function(Plotly) { window.PLOTLYENV=window.PLOTLYENV || {};window.PLOTLYENV.BASE_URL=\"https://plot.ly\";Plotly.newPlot(\"776184c5-5fb3-404b-b295-5b032d6bf9eb\", [{\"y\": [22.832270948354633, 21.409458479423257, 12.292713399787916, 11.026091144893059, 8.618779606287914, 6.137020183275072, 5.2432882751042795, 4.207596599827014, 3.5414207028132534, 1.5319689021108724, 1.3530138489890189, 0.5905383174303704, 0.45042315351965057, 0.21512943772613477, 0.17179844888742302, 0.17884348144134335, 0.07732262022038272, 0.09074059549241748, 0.024337287721269203, 0.007244566694710566], \"x\": [\"direct\", \"organic yandex\", \"cpc market\", \"cpc yandex\", \"organic google\", \"cpa other\", \"cpc other\", \"media_ad google_adwords\", \"email\", \"referral\", \"organic other\", \"media_ad yandex\", \"social\", \"cpa google_adwords\", \"cpc google_adwords\", \"marketplace\", \"cpa yandex\", \"media_ad other\", \"cpa market\", \"retargeting yandex\"], \"type\": \"bar\", \"name\": \"behaviour\"}, {\"y\": [26.11242687977265, 19.092474173988283, 12.861902023542669, 10.57952828749266, 7.4200832180381076, 6.939961990508325, 5.208586053495561, 3.927139165900515, 3.281266869957111, 1.5374710917330805, 1.263180676858742, 0.5323819736380192, 0.4555384672957698, 0.2528234496779494, 0.18179170940610995, 0.17085946524149806, 0.09004163887332076, 0.0598973171567472, 0.021310416459780948, 0.011335130963099781], \"x\": [\"direct\", \"organic yandex\", \"cpc market\", \"cpc yandex\", \"organic google\", \"cpa other\", \"cpc other\", \"media_ad google_adwords\", \"email\", \"referral\", \"organic other\", \"media_ad yandex\", \"social\", \"cpa google_adwords\", \"cpc google_adwords\", \"marketplace\", \"cpa yandex\", \"media_ad other\", \"cpa market\", \"retargeting yandex\"], \"type\": \"bar\", \"name\": \"last click\"}, {\"y\": [18.041906185189546, 21.51632136103879, 13.241280714700736, 12.066954848745672, 8.795406507503507, 7.229810950162258, 5.731193002834301, 4.8110530715070885, 3.8140049052562075, 1.4178503591879141, 1.3828803682187383, 0.6578292488288591, 0.4531988058227903, 0.25656948255124296, 0.18646631139075812, 0.18781455439703706, 0.08965023338788938, 0.08858783144527484, 0.023289150972070176, 0.007932106859319726], \"x\": [\"direct\", \"organic yandex\", \"cpc market\", \"cpc yandex\", \"organic google\", \"cpa other\", \"cpc other\", \"media_ad google_adwords\", \"email\", \"referral\", \"organic other\", \"media_ad yandex\", \"social\", \"cpa google_adwords\", \"cpc google_adwords\", \"marketplace\", \"cpa yandex\", \"media_ad other\", \"cpa market\", \"retargeting yandex\"], \"type\": \"bar\", \"name\": \"time decay & weights\"}], {\"xaxis\": {\"tickangle\": 45}}, {\"linkText\": \"Export to plot.ly\", \"showLink\": false})});</script>"
      ],
      "text/plain": [
       "<IPython.core.display.HTML object>"
      ]
     },
     "metadata": {},
     "output_type": "display_data"
    }
   ],
   "source": [
    "show_bar_plot(get_comparison('Revenue', 'SourceDetailed'))"
   ]
  },
  {
   "cell_type": "code",
   "execution_count": 28,
   "metadata": {
    "collapsed": false
   },
   "outputs": [
    {
     "data": {
      "text/html": [
       "<div id=\"48768a88-221c-4e1a-a377-1c2e1a15b90f\" style=\"height: 525px; width: 100%;\" class=\"plotly-graph-div\"></div><script type=\"text/javascript\">require([\"plotly\"], function(Plotly) { window.PLOTLYENV=window.PLOTLYENV || {};window.PLOTLYENV.BASE_URL=\"https://plot.ly\";Plotly.newPlot(\"48768a88-221c-4e1a-a377-1c2e1a15b90f\", [{\"y\": [-3.2801559314180153, -0.8029418072332533, -0.5691886237547532, -0.03769401195181463, -0.012719018652938036, -0.00999326051868693, -0.0055021896222080535, -0.005115313776119235, -0.004090564268389215, 0.003026871261488255, 0.00798401619984529, 0.030843278335670278, 0.034702221608718276, 0.05815634379235124, 0.08983317213027697, 0.2601538328561426, 0.28045743392649936, 0.4465628574003979, 1.1986963882498065, 2.316984305434975], \"x\": [\"direct\", \"cpa other\", \"cpc market\", \"cpa google_adwords\", \"cpa yandex\", \"cpc google_adwords\", \"referral\", \"social\", \"retargeting yandex\", \"cpa market\", \"marketplace\", \"media_ad other\", \"cpc other\", \"media_ad yandex\", \"organic other\", \"email\", \"media_ad google_adwords\", \"cpc yandex\", \"organic google\", \"organic yandex\"], \"type\": \"bar\", \"name\": \"behaviour\"}, {\"y\": [-8.070520694583102, 0.2898489596539324, 0.37937869115806677, 0.003746032873293559, -0.0003914054854313731, 0.004674601984648169, -0.11962073254516636, -0.002339661472979482, -0.003403024103780055, 0.0019787345122892278, 0.016955089155539005, 0.02869051428852764, 0.5226069493387397, 0.12544727519083987, 0.11969969135999636, 0.5327380352990967, 0.8839139056065735, 1.4874265612530113, 1.3753232894654, 2.4238471870505087], \"x\": [\"direct\", \"cpa other\", \"cpc market\", \"cpa google_adwords\", \"cpa yandex\", \"cpc google_adwords\", \"referral\", \"social\", \"retargeting yandex\", \"cpa market\", \"marketplace\", \"media_ad other\", \"cpc other\", \"media_ad yandex\", \"organic other\", \"email\", \"media_ad google_adwords\", \"cpc yandex\", \"organic google\", \"organic yandex\"], \"type\": \"bar\", \"name\": \"time decay & weights\"}], {\"xaxis\": {\"tickangle\": 45}}, {\"linkText\": \"Export to plot.ly\", \"showLink\": false})});</script>"
      ],
      "text/plain": [
       "<IPython.core.display.HTML object>"
      ]
     },
     "metadata": {},
     "output_type": "display_data"
    }
   ],
   "source": [
    "show_bar_plot(get_comparison('Revenue', 'SourceDetailed', show_delta=True))"
   ]
  },
  {
   "cell_type": "code",
   "execution_count": null,
   "metadata": {
    "collapsed": true
   },
   "outputs": [],
   "source": []
  }
 ],
 "metadata": {
  "anaconda-cloud": {},
  "kernelspec": {
   "display_name": "Python [Root]",
   "language": "python",
   "name": "Python [Root]"
  },
  "language_info": {
   "codemirror_mode": {
    "name": "ipython",
    "version": 2
   },
   "file_extension": ".py",
   "mimetype": "text/x-python",
   "name": "python",
   "nbconvert_exporter": "python",
   "pygments_lexer": "ipython2",
   "version": "2.7.12"
  }
 },
 "nbformat": 4,
 "nbformat_minor": 1
}
