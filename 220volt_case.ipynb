{
 "cells": [
  {
   "cell_type": "markdown",
   "metadata": {},
   "source": [
    "# Кастомные модели атрибуции\n",
    "## Подготовка\n",
    "### Установка необходимых программ\n",
    "\n",
    "Для работы нам понадобится:\n",
    "* СУБД ClickHouse\n",
    "* Python 2.7 + несколько библиотек (pandas, requests, plot.ly)\n",
    "* Jupyter Notebook\n",
    "\n",
    "#### Установка ClickHouse\n",
    "ClickHouse можно установить на Linux (подробно про установку написано в документации https://clickhouse.yandex/).\n",
    "\n",
    "На Windows или Mac можно запустить ClickHouse под Docker'ом: первая команда поднимает clickhouse-server на порту 8123, а вторая - позволяет подключиться к консольному ClickHouse клиенту.\n",
    "```\n",
    "docker run -d --name clickhouse-server --publish=8123:8123 --publish=9000:9000 yandex/clickhouse-server\n",
    "docker run -it --rm --link clickhouse-server:9000 yandex/clickhouse-client --host clickhouse-server\n",
    "```\n",
    "\n",
    "#### Установка python и jupyter notebook\n",
    "\n",
    "Python можно скачать на [официальном сайте](https://www.python.org/getit/). \n",
    "Также в скрипте будут использованы некоторые дополнительные библиотеки, их проще всего поставить с помощью менеджера пакетов pip ([инструкция по установке pip](https://pip.pypa.io/en/stable/installing/))\n",
    "\n",
    "```\n",
    "pip install pandas jupyter requests plotly\n",
    "```\n",
    "\n",
    "Для того, чтобы запустить jupyter notebook, достаточно выполнить в консоли команду (после этого web-interface будет доступно по адресу http://localhost:8888):\n",
    "\n",
    "```jupyter notebook```"
   ]
  },
  {
   "cell_type": "markdown",
   "metadata": {},
   "source": [
    "### Выгрузка данных из LogsAPI в ClickHouse\n",
    "Проще всего загрузить данные из LogsAPI в ClickHouse с помощью скрипта на GitHub'e.\n",
    "Прежде всего нужно указать всю информацию в конфиге.\n",
    "\n",
    "В конфиге собраны основные параметры и будет достаточно задать их один раз и затем пользоваться. Для данной задачи я использовала вот такой конфиг:\n",
    "\n",
    "```\n",
    "{\n",
    "\t\"token\" : \"<insert>\",\n",
    "\t\"counter_id\": \"6375151\",\n",
    "\t\"visits_fields\": [\n",
    "\t    \"ym:s:counterID\",\n",
    "\t    \"ym:s:dateTime\",\n",
    "\t    \"ym:s:date\",\n",
    "\t    \"ym:s:visitDuration\",\n",
    "\t    \"ym:s:bounce\",\n",
    "\t    \"ym:s:pageViews\",\n",
    "\t    \"ym:s:goalsID\",\n",
    "\t    \"ym:s:firstPartyCookie\",\n",
    "\t    \"ym:s:lastDirectConditionType\",\n",
    "\t    \"ym:s:purchaseRevenue\",\n",
    "\t    \"ym:s:purchaseID\",\n",
    "\t    \"ym:s:lastTrafficSource\",\n",
    "\t    \"ym:s:lastAdvEngine\",\n",
    "\t    \"ym:s:lastSearchEngineRoot\",\n",
    "\t    \"ym:s:visitID\",\n",
    "\t    \"ym:s:UTMMedium\",\n",
    "\t    \"ym:s:startURL\"\n",
    "\t],\n",
    "\t\"log_level\": \"DEBUG\",\n",
    "\t\"retries\": 1,\n",
    "\t\"retries_delay\": 60,\n",
    "\t\"clickhouse\": {\n",
    "\t\t\"host\": \"http://localhost:8123\",\n",
    "\t\t\"user\": \"\",\n",
    "\t\t\"password\": \"\",\n",
    "\t\t\"visits_table\": \"visits_all\",\n",
    "\t\t\"hits_table\": \"hits_all\",\n",
    "\t\t\"database\": \"default\"\n",
    "\t}\n",
    "}\n",
    "```\n",
    "\n",
    "Часть параметров задается непосредственно при вызове функции в CLI options. Например, источник (хиты или визиты) и период выгрузки.\n",
    "У скрипта есть несколько режимов работы. \n",
    "Во-первых, можно задать конкретные период (`start_date` и `end_date`):\n",
    "\n",
    "```python metrica_logs_api.py -source visits -start_date 2015-12-25 -end_date 2015-12-25```\n",
    "\n",
    "Другая опция это использовать один из режимов:\n",
    "* __history__ - выгружает все данные с даты создания счетчика до позавчера \n",
    "* __regular__ - рекомендуемый режим для регулярных выгрузок, каждый день будет подтягивать данные за позавчера\n",
    "* __regular_early__ - как __regular__ только берет вчерашний день (данные за вчера могут быть неполными, так что рекомендуется все-таки использовать __regular__)\n",
    "\n",
    "```python metrica_logs_api.py -source visits -mode regular```"
   ]
  },
  {
   "cell_type": "markdown",
   "metadata": {},
   "source": [
    "### Полезные функции\n",
    "\n",
    "Напишем функции для интеграции с ClickHouse: первая функция просто возвращает результат из DataBase, вторая же преобразует его в pandas DataFrame."
   ]
  },
  {
   "cell_type": "code",
   "execution_count": 2,
   "metadata": {
    "collapsed": true
   },
   "outputs": [],
   "source": [
    "HOST = 'http://localhost:8123'\n",
    "import requests\n",
    "import pandas as pd\n",
    "import StringIO\n",
    "\n",
    "def get_clickhouse_data(query, host = HOST, connection_timeout = 1500):\n",
    "    r = requests.post(host, params = {'query': query}, timeout = connection_timeout)\n",
    "    if r.status_code == 200:\n",
    "        return r.text\n",
    "    else:\n",
    "        raise ValueError, r.text\n",
    "        \n",
    "def get_clickhouse_df(query, host = HOST, connection_timeout = 1500):\n",
    "    data = get_clickhouse_data(query, host, connection_timeout) \n",
    "    df = pd.read_csv(StringIO.StringIO(data), sep = '\\t')\n",
    "    return df"
   ]
  },
  {
   "cell_type": "markdown",
   "metadata": {},
   "source": [
    "## Разминка или пара простых SQL запросов\n",
    "Для начала посмотрим, какие данные есть в выгруженной с помощью Logs API таблице `visits_all`"
   ]
  },
  {
   "cell_type": "code",
   "execution_count": 3,
   "metadata": {
    "collapsed": false
   },
   "outputs": [
    {
     "name": "stdout",
     "output_type": "stream",
     "text": [
      "CounterID\tUInt32\t\t\n",
      "DateTime\tDateTime\t\t\n",
      "Date\tDate\t\t\n",
      "Duration\tUInt32\t\t\n",
      "IsBounce\tUInt8\t\t\n",
      "PageViews\tInt32\t\t\n",
      "GoalsID\tArray(UInt32)\t\t\n",
      "FirstPartyCookie\tUInt64\t\t\n",
      "DirectConditionType\tUInt8\t\t\n",
      "PurchaseRevenue\tArray(Float64)\t\t\n",
      "PurchaseID\tArray(String)\t\t\n",
      "LastSearchEngine\tString\t\t\n",
      "LastAdvEngine\tString\t\t\n",
      "LastTraficSource\tString\t\t\n",
      "VisitID\tUInt64\t\t\n",
      "UTMMedium\tString\t\t\n",
      "StartURL\tString\t\t\n",
      "ImpressionsProductID\tArray(String)\t\t\n",
      "\n"
     ]
    }
   ],
   "source": [
    "q = '''DESCRIBE visits_all'''\n",
    "print get_clickhouse_data(q)"
   ]
  },
  {
   "cell_type": "code",
   "execution_count": 4,
   "metadata": {
    "collapsed": false
   },
   "outputs": [
    {
     "name": "stdout",
     "output_type": "stream",
     "text": [
      "6375151\t2015-12-01 09:31:49\t2015-12-01\t4\t1\t1\t[]\t0\t0\t[]\t[]\tyandex\tmarket\tad\t5934905382539739018\tcpc\thttp://220-volt.ru/catalog-156860/?ref=yamar&ymclid=48951480183663227117020\t['156860']\n",
      "6375151\t2015-12-01 21:33:12\t2015-12-01\t0\t1\t1\t[]\t0\t0\t[]\t[]\tyandex\t\torganic\t5935082670770524045\t\thttp://m.220-volt.ru/catalog/svetodiodnyj-zanaves/\t[]\n",
      "6375151\t2015-12-01 08:54:22\t2015-12-01\t1\t1\t1\t[]\t0\t0\t[]\t[]\tyandex\tmarket\tad\t5934896179407679609\tcpc\thttp://220-volt.ru/catalog-210053/?ref=yamar&ymclid=48949242555794435398093\t['210053']\n",
      "6375151\t2015-12-01 10:56:43\t2015-12-01\t0\t1\t1\t[]\t0\t0\t[]\t[]\t\t\tdirect\t5934926249142175607\t\thttp://ulyanovsk.220-volt.ru/catalog-59739/\t[]\n",
      "6375151\t2015-12-01 15:25:47\t2015-12-01\t171\t0\t6\t[]\t0\t0\t[]\t[]\t\t\tdirect\t5934992373385930594\t\thttp://m.220-volt.ru/catalog/2-55/\t[]\n",
      "\n"
     ]
    }
   ],
   "source": [
    "q = '''\n",
    "    SELECT * FROM visits_all \n",
    "    LIMIT 5\n",
    "    '''\n",
    "print get_clickhouse_data(q)"
   ]
  },
  {
   "cell_type": "code",
   "execution_count": 8,
   "metadata": {
    "collapsed": false
   },
   "outputs": [
    {
     "data": {
      "text/html": [
       "<div>\n",
       "<table border=\"1\" class=\"dataframe\">\n",
       "  <thead>\n",
       "    <tr style=\"text-align: right;\">\n",
       "      <th></th>\n",
       "      <th>min(Date)</th>\n",
       "      <th>max(Date)</th>\n",
       "    </tr>\n",
       "  </thead>\n",
       "  <tbody>\n",
       "    <tr>\n",
       "      <th>0</th>\n",
       "      <td>2015-12-01</td>\n",
       "      <td>2015-12-31</td>\n",
       "    </tr>\n",
       "  </tbody>\n",
       "</table>\n",
       "</div>"
      ],
      "text/plain": [
       "    min(Date)   max(Date)\n",
       "0  2015-12-01  2015-12-31"
      ]
     },
     "execution_count": 8,
     "metadata": {},
     "output_type": "execute_result"
    }
   ],
   "source": [
    "q = '''\n",
    "    SELECT min(Date), max(Date)\n",
    "    FROM visits_all\n",
    "    FORMAT TabSeparatedWithNames\n",
    "'''\n",
    "get_clickhouse_df(q)"
   ]
  },
  {
   "cell_type": "markdown",
   "metadata": {},
   "source": [
    "Посчитаем общее число визитов, пользователей, покупок, а также выручку.\n",
    "\n",
    "__Disclaimer: выручка была умножена на случайное число.__"
   ]
  },
  {
   "cell_type": "code",
   "execution_count": 9,
   "metadata": {
    "collapsed": false
   },
   "outputs": [
    {
     "data": {
      "text/html": [
       "<div>\n",
       "<table border=\"1\" class=\"dataframe\">\n",
       "  <thead>\n",
       "    <tr style=\"text-align: right;\">\n",
       "      <th></th>\n",
       "      <th>TotalVisits</th>\n",
       "      <th>TotalUsers</th>\n",
       "      <th>TotalPurchases</th>\n",
       "      <th>TotalRevenue</th>\n",
       "    </tr>\n",
       "  </thead>\n",
       "  <tbody>\n",
       "    <tr>\n",
       "      <th>0</th>\n",
       "      <td>5451184</td>\n",
       "      <td>2976586</td>\n",
       "      <td>70464</td>\n",
       "      <td>8336006970</td>\n",
       "    </tr>\n",
       "  </tbody>\n",
       "</table>\n",
       "</div>"
      ],
      "text/plain": [
       "   TotalVisits  TotalUsers  TotalPurchases  TotalRevenue\n",
       "0      5451184     2976586           70464    8336006970"
      ]
     },
     "execution_count": 9,
     "metadata": {},
     "output_type": "execute_result"
    }
   ],
   "source": [
    "q = '''\n",
    "    SELECT \n",
    "        count() as TotalVisits,\n",
    "        uniq(FirstPartyCookie) as TotalUsers,\n",
    "        sum(length(PurchaseID)) as TotalPurchases,\n",
    "        sum(arraySum(PurchaseRevenue)) as TotalRevenue\n",
    "    FROM visits_all\n",
    "    FORMAT TabSeparatedWithNames\n",
    "'''\n",
    "get_clickhouse_df(q)"
   ]
  },
  {
   "cell_type": "markdown",
   "metadata": {},
   "source": [
    "Посмотрим на те же показатели в разбивке по пользователям."
   ]
  },
  {
   "cell_type": "code",
   "execution_count": 10,
   "metadata": {
    "collapsed": false
   },
   "outputs": [
    {
     "name": "stdout",
     "output_type": "stream",
     "text": [
      "CPU times: user 5.57 ms, sys: 2.87 ms, total: 8.44 ms\n",
      "Wall time: 3.3 s\n"
     ]
    },
    {
     "data": {
      "text/html": [
       "<div>\n",
       "<table border=\"1\" class=\"dataframe\">\n",
       "  <thead>\n",
       "    <tr style=\"text-align: right;\">\n",
       "      <th></th>\n",
       "      <th>TotalVisits</th>\n",
       "      <th>TotalUsers</th>\n",
       "      <th>TotalPurchases</th>\n",
       "      <th>TotalRevenue</th>\n",
       "      <th>FirstPartyCookie</th>\n",
       "    </tr>\n",
       "  </thead>\n",
       "  <tbody>\n",
       "    <tr>\n",
       "      <th>0</th>\n",
       "      <td>435802</td>\n",
       "      <td>1</td>\n",
       "      <td>5179</td>\n",
       "      <td>654692984</td>\n",
       "      <td>0</td>\n",
       "    </tr>\n",
       "    <tr>\n",
       "      <th>1</th>\n",
       "      <td>235</td>\n",
       "      <td>1</td>\n",
       "      <td>0</td>\n",
       "      <td>0</td>\n",
       "      <td>1447747427476392199</td>\n",
       "    </tr>\n",
       "    <tr>\n",
       "      <th>2</th>\n",
       "      <td>164</td>\n",
       "      <td>1</td>\n",
       "      <td>1</td>\n",
       "      <td>14592</td>\n",
       "      <td>1447125777179508541</td>\n",
       "    </tr>\n",
       "    <tr>\n",
       "      <th>3</th>\n",
       "      <td>133</td>\n",
       "      <td>1</td>\n",
       "      <td>0</td>\n",
       "      <td>0</td>\n",
       "      <td>1446469321642514082</td>\n",
       "    </tr>\n",
       "    <tr>\n",
       "      <th>4</th>\n",
       "      <td>133</td>\n",
       "      <td>1</td>\n",
       "      <td>0</td>\n",
       "      <td>0</td>\n",
       "      <td>1449930383269506388</td>\n",
       "    </tr>\n",
       "  </tbody>\n",
       "</table>\n",
       "</div>"
      ],
      "text/plain": [
       "   TotalVisits  TotalUsers  TotalPurchases  TotalRevenue     FirstPartyCookie\n",
       "0       435802           1            5179     654692984                    0\n",
       "1          235           1               0             0  1447747427476392199\n",
       "2          164           1               1         14592  1447125777179508541\n",
       "3          133           1               0             0  1446469321642514082\n",
       "4          133           1               0             0  1449930383269506388"
      ]
     },
     "execution_count": 10,
     "metadata": {},
     "output_type": "execute_result"
    }
   ],
   "source": [
    "q = '''\n",
    "    SELECT \n",
    "        count() as TotalVisits,\n",
    "        uniq(FirstPartyCookie) as TotalUsers,\n",
    "        sum(length(PurchaseID)) as TotalPurchases,\n",
    "        sum(arraySum(PurchaseRevenue)) as TotalRevenue,\n",
    "        FirstPartyCookie\n",
    "    FROM visits_all\n",
    "    GROUP BY FirstPartyCookie\n",
    "    ORDER BY TotalVisits DESC\n",
    "    LIMIT 5\n",
    "    FORMAT TabSeparatedWithNames\n",
    "'''\n",
    "%time get_clickhouse_df(q)"
   ]
  },
  {
   "cell_type": "markdown",
   "metadata": {},
   "source": [
    "## Пути до покупки\n",
    "Для начала выгрузим визиты, в которых были совершены покупки"
   ]
  },
  {
   "cell_type": "code",
   "execution_count": 11,
   "metadata": {
    "collapsed": false
   },
   "outputs": [
    {
     "data": {
      "text/html": [
       "<div>\n",
       "<table border=\"1\" class=\"dataframe\">\n",
       "  <thead>\n",
       "    <tr style=\"text-align: right;\">\n",
       "      <th></th>\n",
       "      <th>LastTraficSource</th>\n",
       "      <th>FirstPartyCookie</th>\n",
       "      <th>VisitID</th>\n",
       "    </tr>\n",
       "  </thead>\n",
       "  <tbody>\n",
       "    <tr>\n",
       "      <th>0</th>\n",
       "      <td>direct</td>\n",
       "      <td>14466379051005714998</td>\n",
       "      <td>5939061898048872152</td>\n",
       "    </tr>\n",
       "    <tr>\n",
       "      <th>1</th>\n",
       "      <td>organic</td>\n",
       "      <td>1450082044461071361</td>\n",
       "      <td>5939344097664677658</td>\n",
       "    </tr>\n",
       "    <tr>\n",
       "      <th>2</th>\n",
       "      <td>referral</td>\n",
       "      <td>1449992588546282437</td>\n",
       "      <td>5939169643029919526</td>\n",
       "    </tr>\n",
       "    <tr>\n",
       "      <th>3</th>\n",
       "      <td>organic</td>\n",
       "      <td>1446633457145398431</td>\n",
       "      <td>5939217871051015961</td>\n",
       "    </tr>\n",
       "    <tr>\n",
       "      <th>4</th>\n",
       "      <td>direct</td>\n",
       "      <td>1448190872275658371</td>\n",
       "      <td>5939249704137096911</td>\n",
       "    </tr>\n",
       "  </tbody>\n",
       "</table>\n",
       "</div>"
      ],
      "text/plain": [
       "  LastTraficSource      FirstPartyCookie              VisitID\n",
       "0           direct  14466379051005714998  5939061898048872152\n",
       "1          organic   1450082044461071361  5939344097664677658\n",
       "2         referral   1449992588546282437  5939169643029919526\n",
       "3          organic   1446633457145398431  5939217871051015961\n",
       "4           direct   1448190872275658371  5939249704137096911"
      ]
     },
     "execution_count": 11,
     "metadata": {},
     "output_type": "execute_result"
    }
   ],
   "source": [
    "q = '''\n",
    "    SELECT \n",
    "        LastTraficSource,\n",
    "        FirstPartyCookie,\n",
    "        VisitID\n",
    "    FROM visits_all\n",
    "    WHERE (FirstPartyCookie != 0) AND (length(PurchaseID) != 0)\n",
    "    LIMIT 5\n",
    "    FORMAT TabSeparatedWithNames\n",
    "'''\n",
    "\n",
    "get_clickhouse_df(q)"
   ]
  },
  {
   "cell_type": "markdown",
   "metadata": {},
   "source": [
    "Для того, чтобы построить пути, т.е. для каждой покупки определить, с какими источниками пользователь появлялся на сайте ранее, нужно сделать JOIN таблицы с самой собой по идентификатору пользователя `FirstPartyCookie`."
   ]
  },
  {
   "cell_type": "code",
   "execution_count": 13,
   "metadata": {
    "collapsed": false
   },
   "outputs": [
    {
     "name": "stdout",
     "output_type": "stream",
     "text": [
      "CPU times: user 5.67 ms, sys: 1.89 ms, total: 7.56 ms\n",
      "Wall time: 2.48 s\n"
     ]
    },
    {
     "data": {
      "text/html": [
       "<div>\n",
       "<table border=\"1\" class=\"dataframe\">\n",
       "  <thead>\n",
       "    <tr style=\"text-align: right;\">\n",
       "      <th></th>\n",
       "      <th>FirstPartyCookie</th>\n",
       "      <th>VisitID</th>\n",
       "      <th>PurchaseTime</th>\n",
       "      <th>DateTime</th>\n",
       "      <th>LastTraficSource</th>\n",
       "    </tr>\n",
       "  </thead>\n",
       "  <tbody>\n",
       "    <tr>\n",
       "      <th>0</th>\n",
       "      <td>14466379051005714998</td>\n",
       "      <td>5939061898048872152</td>\n",
       "      <td>2015-12-13 03:24:43</td>\n",
       "      <td>2015-12-04 08:29:26</td>\n",
       "      <td>direct</td>\n",
       "    </tr>\n",
       "    <tr>\n",
       "      <th>1</th>\n",
       "      <td>14466379051005714998</td>\n",
       "      <td>5939061898048872152</td>\n",
       "      <td>2015-12-13 03:24:43</td>\n",
       "      <td>2015-12-26 07:55:14</td>\n",
       "      <td>direct</td>\n",
       "    </tr>\n",
       "    <tr>\n",
       "      <th>2</th>\n",
       "      <td>14466379051005714998</td>\n",
       "      <td>5939061898048872152</td>\n",
       "      <td>2015-12-13 03:24:43</td>\n",
       "      <td>2015-12-22 18:55:30</td>\n",
       "      <td>direct</td>\n",
       "    </tr>\n",
       "    <tr>\n",
       "      <th>3</th>\n",
       "      <td>14466379051005714998</td>\n",
       "      <td>5939061898048872152</td>\n",
       "      <td>2015-12-13 03:24:43</td>\n",
       "      <td>2015-12-17 10:34:41</td>\n",
       "      <td>direct</td>\n",
       "    </tr>\n",
       "    <tr>\n",
       "      <th>4</th>\n",
       "      <td>14466379051005714998</td>\n",
       "      <td>5939061898048872152</td>\n",
       "      <td>2015-12-13 03:24:43</td>\n",
       "      <td>2015-12-13 03:24:43</td>\n",
       "      <td>direct</td>\n",
       "    </tr>\n",
       "  </tbody>\n",
       "</table>\n",
       "</div>"
      ],
      "text/plain": [
       "       FirstPartyCookie              VisitID         PurchaseTime  \\\n",
       "0  14466379051005714998  5939061898048872152  2015-12-13 03:24:43   \n",
       "1  14466379051005714998  5939061898048872152  2015-12-13 03:24:43   \n",
       "2  14466379051005714998  5939061898048872152  2015-12-13 03:24:43   \n",
       "3  14466379051005714998  5939061898048872152  2015-12-13 03:24:43   \n",
       "4  14466379051005714998  5939061898048872152  2015-12-13 03:24:43   \n",
       "\n",
       "              DateTime LastTraficSource  \n",
       "0  2015-12-04 08:29:26           direct  \n",
       "1  2015-12-26 07:55:14           direct  \n",
       "2  2015-12-22 18:55:30           direct  \n",
       "3  2015-12-17 10:34:41           direct  \n",
       "4  2015-12-13 03:24:43           direct  "
      ]
     },
     "execution_count": 13,
     "metadata": {},
     "output_type": "execute_result"
    }
   ],
   "source": [
    "q = '''\n",
    "    SELECT \n",
    "        FirstPartyCookie,\n",
    "        VisitID,\n",
    "        PurchaseTime,\n",
    "        DateTime,\n",
    "        LastTraficSource\n",
    "    FROM\n",
    "        (SELECT \n",
    "            FirstPartyCookie,\n",
    "            DateTime as PurchaseTime, \n",
    "            VisitID\n",
    "        FROM visits_all\n",
    "        WHERE (FirstPartyCookie != 0) AND (length(PurchaseID) != 0))\n",
    "        ALL LEFT JOIN\n",
    "        (SELECT \n",
    "            FirstPartyCookie,\n",
    "            LastTraficSource,\n",
    "            DateTime\n",
    "        FROM visits_all\n",
    "        ORDER BY DateTime)\n",
    "        USING FirstPartyCookie\n",
    "    LIMIT 5\n",
    "    FORMAT TabSeparatedWithNames\n",
    "'''\n",
    "\n",
    "%time get_clickhouse_df(q)"
   ]
  },
  {
   "cell_type": "markdown",
   "metadata": {},
   "source": [
    "Объединим все по `VisitID` и с помощью функции `groupArray` соберем все источника трафика в массивы"
   ]
  },
  {
   "cell_type": "code",
   "execution_count": 14,
   "metadata": {
    "collapsed": false
   },
   "outputs": [
    {
     "name": "stdout",
     "output_type": "stream",
     "text": [
      "CPU times: user 5.62 ms, sys: 2.09 ms, total: 7.71 ms\n",
      "Wall time: 3.73 s\n"
     ]
    },
    {
     "data": {
      "text/html": [
       "<div>\n",
       "<table border=\"1\" class=\"dataframe\">\n",
       "  <thead>\n",
       "    <tr style=\"text-align: right;\">\n",
       "      <th></th>\n",
       "      <th>VisitID</th>\n",
       "      <th>Sources</th>\n",
       "    </tr>\n",
       "  </thead>\n",
       "  <tbody>\n",
       "    <tr>\n",
       "      <th>0</th>\n",
       "      <td>5942036913160910687</td>\n",
       "      <td>['ad','ad','ad','ad','ad']</td>\n",
       "    </tr>\n",
       "    <tr>\n",
       "      <th>1</th>\n",
       "      <td>5944887285864662889</td>\n",
       "      <td>['ad','internal','ad']</td>\n",
       "    </tr>\n",
       "    <tr>\n",
       "      <th>2</th>\n",
       "      <td>5936327790758690505</td>\n",
       "      <td>['ad']</td>\n",
       "    </tr>\n",
       "    <tr>\n",
       "      <th>3</th>\n",
       "      <td>5935674958795425569</td>\n",
       "      <td>['social']</td>\n",
       "    </tr>\n",
       "    <tr>\n",
       "      <th>4</th>\n",
       "      <td>5937596701532043135</td>\n",
       "      <td>['organic','organic','referral','ad']</td>\n",
       "    </tr>\n",
       "  </tbody>\n",
       "</table>\n",
       "</div>"
      ],
      "text/plain": [
       "               VisitID                                Sources\n",
       "0  5942036913160910687             ['ad','ad','ad','ad','ad']\n",
       "1  5944887285864662889                 ['ad','internal','ad']\n",
       "2  5936327790758690505                                 ['ad']\n",
       "3  5935674958795425569                             ['social']\n",
       "4  5937596701532043135  ['organic','organic','referral','ad']"
      ]
     },
     "execution_count": 14,
     "metadata": {},
     "output_type": "execute_result"
    }
   ],
   "source": [
    "q = '''\n",
    "    SELECT \n",
    "        VisitID,\n",
    "        groupArray(LastTraficSource) as Sources\n",
    "    FROM\n",
    "        (SELECT \n",
    "            FirstPartyCookie,\n",
    "            DateTime as PurchaseTime, \n",
    "            VisitID\n",
    "        FROM visits_all\n",
    "        WHERE (FirstPartyCookie != 0) AND (length(PurchaseID) != 0))\n",
    "        ALL LEFT JOIN\n",
    "        (SELECT \n",
    "            FirstPartyCookie,\n",
    "            LastTraficSource,\n",
    "            DateTime\n",
    "        FROM visits_all\n",
    "        ORDER BY DateTime)\n",
    "        USING FirstPartyCookie\n",
    "    WHERE PurchaseTime >= DateTime\n",
    "    GROUP BY VisitID\n",
    "    LIMIT 5\n",
    "    FORMAT TabSeparatedWithNames\n",
    "'''\n",
    "\n",
    "%time get_clickhouse_df(q)"
   ]
  },
  {
   "cell_type": "markdown",
   "metadata": {},
   "source": [
    "И, в конце концов, посчитаем для каждого пути количество покупок и построим топ."
   ]
  },
  {
   "cell_type": "code",
   "execution_count": 15,
   "metadata": {
    "collapsed": false
   },
   "outputs": [
    {
     "name": "stdout",
     "output_type": "stream",
     "text": [
      "CPU times: user 5.43 ms, sys: 2.45 ms, total: 7.89 ms\n",
      "Wall time: 2.34 s\n"
     ]
    },
    {
     "data": {
      "text/html": [
       "<div>\n",
       "<table border=\"1\" class=\"dataframe\">\n",
       "  <thead>\n",
       "    <tr style=\"text-align: right;\">\n",
       "      <th></th>\n",
       "      <th>Sources</th>\n",
       "      <th>TotalNumPurchases</th>\n",
       "    </tr>\n",
       "  </thead>\n",
       "  <tbody>\n",
       "    <tr>\n",
       "      <th>0</th>\n",
       "      <td>['organic']</td>\n",
       "      <td>13774</td>\n",
       "    </tr>\n",
       "    <tr>\n",
       "      <th>1</th>\n",
       "      <td>['ad']</td>\n",
       "      <td>7447</td>\n",
       "    </tr>\n",
       "    <tr>\n",
       "      <th>2</th>\n",
       "      <td>['direct']</td>\n",
       "      <td>4883</td>\n",
       "    </tr>\n",
       "    <tr>\n",
       "      <th>3</th>\n",
       "      <td>['ad','ad']</td>\n",
       "      <td>2200</td>\n",
       "    </tr>\n",
       "    <tr>\n",
       "      <th>4</th>\n",
       "      <td>['organic','organic']</td>\n",
       "      <td>2159</td>\n",
       "    </tr>\n",
       "  </tbody>\n",
       "</table>\n",
       "</div>"
      ],
      "text/plain": [
       "                 Sources  TotalNumPurchases\n",
       "0            ['organic']              13774\n",
       "1                 ['ad']               7447\n",
       "2             ['direct']               4883\n",
       "3            ['ad','ad']               2200\n",
       "4  ['organic','organic']               2159"
      ]
     },
     "execution_count": 15,
     "metadata": {},
     "output_type": "execute_result"
    }
   ],
   "source": [
    "q = '''\n",
    "    SELECT \n",
    "        Sources, \n",
    "        sum(NumPurchases) as TotalNumPurchases\n",
    "    FROM\n",
    "        (SELECT \n",
    "            any(NumPurchases) as NumPurchases,\n",
    "            VisitID,\n",
    "            groupArray(LastTraficSource) as Sources\n",
    "        FROM\n",
    "            (SELECT \n",
    "                length(PurchaseID) as NumPurchases,\n",
    "                FirstPartyCookie,\n",
    "                DateTime as PurchaseTime, \n",
    "                VisitID\n",
    "            FROM visits_all\n",
    "            WHERE (FirstPartyCookie != 0) AND (length(PurchaseID) != 0))\n",
    "            ALL LEFT JOIN\n",
    "            (SELECT \n",
    "                FirstPartyCookie,\n",
    "                LastTraficSource,\n",
    "                DateTime\n",
    "            FROM visits_all\n",
    "            ORDER BY DateTime)\n",
    "            USING FirstPartyCookie\n",
    "        WHERE PurchaseTime >= DateTime\n",
    "        GROUP BY VisitID)\n",
    "    GROUP BY Sources\n",
    "    ORDER BY TotalNumPurchases DESC\n",
    "    LIMIT 5\n",
    "    FORMAT TabSeparatedWithNames\n",
    "'''\n",
    "\n",
    "%time get_clickhouse_df(q)"
   ]
  },
  {
   "cell_type": "markdown",
   "metadata": {},
   "source": [
    "Получившиеся результаты уже достаточно интересны. Но, на самом деле, мы хотим разделять источники на более мелкие группы, а не только на те, которые уже есть в Метрике:\n",
    "* __CPA__ (по условию `UTMMedium` равно `CPA` или `cpa`)\n",
    "* __CPC__ (по условию `UTMMedium` равно `cpc`)\n",
    "* __MarketPlace__ (по условию `UTMMedium` равно `marketplace` или это рекламный трафик с Яндекс.Маркета)\n",
    "* __Ретаргетинг__ (определяем по `DirectConditionType` или по наличию параметра `ref=ga_ref` в URL)\n",
    "* __Media__ - остальная реклама\n",
    "* Хотим объединить Прямые заходы,Переходы с сохраненных страниц и Внутренние переходы в общую группу __Direct__\n",
    "* Остальные источники оставим, как в Метрике"
   ]
  },
  {
   "cell_type": "code",
   "execution_count": 17,
   "metadata": {
    "collapsed": false
   },
   "outputs": [
    {
     "name": "stdout",
     "output_type": "stream",
     "text": [
      "CPU times: user 7.27 ms, sys: 1.97 ms, total: 9.23 ms\n",
      "Wall time: 139 ms\n"
     ]
    },
    {
     "data": {
      "text/html": [
       "<div>\n",
       "<table border=\"1\" class=\"dataframe\">\n",
       "  <thead>\n",
       "    <tr style=\"text-align: right;\">\n",
       "      <th></th>\n",
       "      <th>LastTraficSource</th>\n",
       "      <th>UTMMedium</th>\n",
       "      <th>StartURL</th>\n",
       "      <th>LastAdvEngine</th>\n",
       "      <th>LastSearchEngine</th>\n",
       "      <th>Source</th>\n",
       "      <th>SourceDetailed</th>\n",
       "    </tr>\n",
       "  </thead>\n",
       "  <tbody>\n",
       "    <tr>\n",
       "      <th>0</th>\n",
       "      <td>ad</td>\n",
       "      <td>cpc</td>\n",
       "      <td>http://220-volt.ru/catalog-156860/?ref=yamar&amp;y...</td>\n",
       "      <td>market</td>\n",
       "      <td>yandex</td>\n",
       "      <td>cpc</td>\n",
       "      <td>cpc market</td>\n",
       "    </tr>\n",
       "    <tr>\n",
       "      <th>1</th>\n",
       "      <td>organic</td>\n",
       "      <td>NaN</td>\n",
       "      <td>http://m.220-volt.ru/catalog/svetodiodnyj-zana...</td>\n",
       "      <td>NaN</td>\n",
       "      <td>yandex</td>\n",
       "      <td>organic</td>\n",
       "      <td>organic yandex</td>\n",
       "    </tr>\n",
       "    <tr>\n",
       "      <th>2</th>\n",
       "      <td>ad</td>\n",
       "      <td>cpc</td>\n",
       "      <td>http://220-volt.ru/catalog-210053/?ref=yamar&amp;y...</td>\n",
       "      <td>market</td>\n",
       "      <td>yandex</td>\n",
       "      <td>cpc</td>\n",
       "      <td>cpc market</td>\n",
       "    </tr>\n",
       "    <tr>\n",
       "      <th>3</th>\n",
       "      <td>direct</td>\n",
       "      <td>NaN</td>\n",
       "      <td>http://ulyanovsk.220-volt.ru/catalog-59739/</td>\n",
       "      <td>NaN</td>\n",
       "      <td>NaN</td>\n",
       "      <td>direct</td>\n",
       "      <td>direct</td>\n",
       "    </tr>\n",
       "    <tr>\n",
       "      <th>4</th>\n",
       "      <td>direct</td>\n",
       "      <td>NaN</td>\n",
       "      <td>http://m.220-volt.ru/catalog/2-55/</td>\n",
       "      <td>NaN</td>\n",
       "      <td>NaN</td>\n",
       "      <td>direct</td>\n",
       "      <td>direct</td>\n",
       "    </tr>\n",
       "    <tr>\n",
       "      <th>5</th>\n",
       "      <td>organic</td>\n",
       "      <td>NaN</td>\n",
       "      <td>http://omsk.220-volt.ru/catalog/</td>\n",
       "      <td>NaN</td>\n",
       "      <td>yandex</td>\n",
       "      <td>organic</td>\n",
       "      <td>organic yandex</td>\n",
       "    </tr>\n",
       "    <tr>\n",
       "      <th>6</th>\n",
       "      <td>ad</td>\n",
       "      <td>NaN</td>\n",
       "      <td>http://m.220-volt.ru/catalog-53213/?ref=ga_ret</td>\n",
       "      <td>google_adwords</td>\n",
       "      <td>NaN</td>\n",
       "      <td>media_ad</td>\n",
       "      <td>media_ad google_adwords</td>\n",
       "    </tr>\n",
       "    <tr>\n",
       "      <th>7</th>\n",
       "      <td>ad</td>\n",
       "      <td>NaN</td>\n",
       "      <td>http://m.220-volt.ru/catalog-220325/?ref=ga_ret</td>\n",
       "      <td>google_adwords</td>\n",
       "      <td>NaN</td>\n",
       "      <td>media_ad</td>\n",
       "      <td>media_ad google_adwords</td>\n",
       "    </tr>\n",
       "    <tr>\n",
       "      <th>8</th>\n",
       "      <td>organic</td>\n",
       "      <td>NaN</td>\n",
       "      <td>http://kemerovo.220-volt.ru/catalog/svarochie-...</td>\n",
       "      <td>NaN</td>\n",
       "      <td>yandex</td>\n",
       "      <td>organic</td>\n",
       "      <td>organic yandex</td>\n",
       "    </tr>\n",
       "    <tr>\n",
       "      <th>9</th>\n",
       "      <td>organic</td>\n",
       "      <td>NaN</td>\n",
       "      <td>http://220-volt.ru/catalog-136605/</td>\n",
       "      <td>NaN</td>\n",
       "      <td>google</td>\n",
       "      <td>organic</td>\n",
       "      <td>organic google</td>\n",
       "    </tr>\n",
       "  </tbody>\n",
       "</table>\n",
       "</div>"
      ],
      "text/plain": [
       "  LastTraficSource UTMMedium  \\\n",
       "0               ad       cpc   \n",
       "1          organic       NaN   \n",
       "2               ad       cpc   \n",
       "3           direct       NaN   \n",
       "4           direct       NaN   \n",
       "5          organic       NaN   \n",
       "6               ad       NaN   \n",
       "7               ad       NaN   \n",
       "8          organic       NaN   \n",
       "9          organic       NaN   \n",
       "\n",
       "                                            StartURL   LastAdvEngine  \\\n",
       "0  http://220-volt.ru/catalog-156860/?ref=yamar&y...          market   \n",
       "1  http://m.220-volt.ru/catalog/svetodiodnyj-zana...             NaN   \n",
       "2  http://220-volt.ru/catalog-210053/?ref=yamar&y...          market   \n",
       "3        http://ulyanovsk.220-volt.ru/catalog-59739/             NaN   \n",
       "4                 http://m.220-volt.ru/catalog/2-55/             NaN   \n",
       "5                   http://omsk.220-volt.ru/catalog/             NaN   \n",
       "6     http://m.220-volt.ru/catalog-53213/?ref=ga_ret  google_adwords   \n",
       "7    http://m.220-volt.ru/catalog-220325/?ref=ga_ret  google_adwords   \n",
       "8  http://kemerovo.220-volt.ru/catalog/svarochie-...             NaN   \n",
       "9                 http://220-volt.ru/catalog-136605/             NaN   \n",
       "\n",
       "  LastSearchEngine    Source           SourceDetailed  \n",
       "0           yandex       cpc               cpc market  \n",
       "1           yandex   organic           organic yandex  \n",
       "2           yandex       cpc               cpc market  \n",
       "3              NaN    direct                   direct  \n",
       "4              NaN    direct                   direct  \n",
       "5           yandex   organic           organic yandex  \n",
       "6              NaN  media_ad  media_ad google_adwords  \n",
       "7              NaN  media_ad  media_ad google_adwords  \n",
       "8           yandex   organic           organic yandex  \n",
       "9           google   organic           organic google  "
      ]
     },
     "execution_count": 17,
     "metadata": {},
     "output_type": "execute_result"
    }
   ],
   "source": [
    "q = '''\n",
    "    SELECT \n",
    "        LastTraficSource,\n",
    "        UTMMedium,\n",
    "        StartURL,\n",
    "        LastAdvEngine, \n",
    "        LastSearchEngine,\n",
    "        if(\n",
    "            lower(UTMMedium) IN ('cpa', 'cpc', 'marketplace'), \n",
    "            lower(UTMMedium),\n",
    "            if(\n",
    "                LastTraficSource = 'ad', \n",
    "                if(\n",
    "                    LastAdvEngine = 'market', \n",
    "                    'marketplace',\n",
    "                    if(\n",
    "                        (DirectConditionType = 2) OR (extractURLParameter(StartURL, 'ref') = 'ga_ref'),\n",
    "                        'retargeting',\n",
    "                        'media_ad')\n",
    "                ),\n",
    "                if(\n",
    "                   LastTraficSource IN ('direct', 'saved', 'undefined', 'internal'),\n",
    "                   'direct',\n",
    "                   LastTraficSource\n",
    "                ) \n",
    "            )\n",
    "        ) as Source,\n",
    "        if(Source = 'organic', \n",
    "            if(LastSearchEngine IN ('yandex', 'google'), concat('organic ', LastSearchEngine), 'organic other'),\n",
    "            if(Source IN ('media_ad', 'retargeting', 'cpa', 'cpc'),\n",
    "                if(\n",
    "                    LastAdvEngine IN ('market', 'google_adwords', 'yandex'), \n",
    "                    concat(Source, concat(' ', LastAdvEngine)),\n",
    "                    concat(Source, ' other')\n",
    "                ),\n",
    "                Source\n",
    "            )) as SourceDetailed\n",
    "    FROM visits_all\n",
    "    LIMIT 10\n",
    "    FORMAT TabSeparatedWithNames\n",
    "'''\n",
    "%time get_clickhouse_df(q)"
   ]
  },
  {
   "cell_type": "markdown",
   "metadata": {},
   "source": [
    "Добавляем в скрипт для расчета путей конверсии определение категорий и получаем пути по новым переопределенным каналам."
   ]
  },
  {
   "cell_type": "code",
   "execution_count": 18,
   "metadata": {
    "collapsed": false
   },
   "outputs": [
    {
     "name": "stdout",
     "output_type": "stream",
     "text": [
      "CPU times: user 6.29 ms, sys: 2.48 ms, total: 8.77 ms\n",
      "Wall time: 5.16 s\n"
     ]
    },
    {
     "data": {
      "text/html": [
       "<div>\n",
       "<table border=\"1\" class=\"dataframe\">\n",
       "  <thead>\n",
       "    <tr style=\"text-align: right;\">\n",
       "      <th></th>\n",
       "      <th>SourcesDetailed</th>\n",
       "      <th>Purchases</th>\n",
       "    </tr>\n",
       "  </thead>\n",
       "  <tbody>\n",
       "    <tr>\n",
       "      <th>0</th>\n",
       "      <td>['organic yandex']</td>\n",
       "      <td>8532</td>\n",
       "    </tr>\n",
       "    <tr>\n",
       "      <th>1</th>\n",
       "      <td>['direct']</td>\n",
       "      <td>4707</td>\n",
       "    </tr>\n",
       "    <tr>\n",
       "      <th>2</th>\n",
       "      <td>['organic google']</td>\n",
       "      <td>3989</td>\n",
       "    </tr>\n",
       "    <tr>\n",
       "      <th>3</th>\n",
       "      <td>['cpc market']</td>\n",
       "      <td>3690</td>\n",
       "    </tr>\n",
       "    <tr>\n",
       "      <th>4</th>\n",
       "      <td>['cpa other']</td>\n",
       "      <td>2249</td>\n",
       "    </tr>\n",
       "    <tr>\n",
       "      <th>5</th>\n",
       "      <td>['cpc yandex']</td>\n",
       "      <td>1966</td>\n",
       "    </tr>\n",
       "    <tr>\n",
       "      <th>6</th>\n",
       "      <td>['cpc other']</td>\n",
       "      <td>1531</td>\n",
       "    </tr>\n",
       "    <tr>\n",
       "      <th>7</th>\n",
       "      <td>['organic yandex','organic yandex']</td>\n",
       "      <td>1321</td>\n",
       "    </tr>\n",
       "    <tr>\n",
       "      <th>8</th>\n",
       "      <td>['direct','direct']</td>\n",
       "      <td>1164</td>\n",
       "    </tr>\n",
       "    <tr>\n",
       "      <th>9</th>\n",
       "      <td>['email']</td>\n",
       "      <td>1044</td>\n",
       "    </tr>\n",
       "  </tbody>\n",
       "</table>\n",
       "</div>"
      ],
      "text/plain": [
       "                       SourcesDetailed  Purchases\n",
       "0                   ['organic yandex']       8532\n",
       "1                           ['direct']       4707\n",
       "2                   ['organic google']       3989\n",
       "3                       ['cpc market']       3690\n",
       "4                        ['cpa other']       2249\n",
       "5                       ['cpc yandex']       1966\n",
       "6                        ['cpc other']       1531\n",
       "7  ['organic yandex','organic yandex']       1321\n",
       "8                  ['direct','direct']       1164\n",
       "9                            ['email']       1044"
      ]
     },
     "execution_count": 18,
     "metadata": {},
     "output_type": "execute_result"
    }
   ],
   "source": [
    "q = '''\n",
    "SELECT \n",
    "    SourcesDetailed, \n",
    "    sum(VisitPurchases) as Purchases\n",
    "    FROM\n",
    "        (SELECT \n",
    "            groupArray(Source) as Sources,\n",
    "            groupArray(SourceDetailed) as SourcesDetailed,\n",
    "            VisitID,\n",
    "            any(FirstPartyCookie) as FirstPartyCookie,\n",
    "            any(DateTime) as StartTime,\n",
    "            any(VisitRevenue) as VisitRevenue,\n",
    "            any(VisitPurchases) as VisitPurchases\n",
    "        FROM\n",
    "            (SELECT\n",
    "                FirstPartyCookie,\n",
    "                DateTime,\n",
    "                VisitRevenue,\n",
    "                VisitPurchases,\n",
    "                Source,\n",
    "                SourceDetailed,\n",
    "                VisitID,\n",
    "                LastSearchEngine,\n",
    "                LastAdvEngine\n",
    "            FROM\n",
    "                (SELECT\n",
    "                    FirstPartyCookie,\n",
    "                    DateTime as PurchaseTime,\n",
    "                    arraySum(PurchaseRevenue) as VisitRevenue,\n",
    "                    length(PurchaseID) as VisitPurchases,\n",
    "                    LastTraficSource,\n",
    "                    VisitID,\n",
    "                    LastSearchEngine,\n",
    "                    LastAdvEngine\n",
    "                FROM visits_all \n",
    "                WHERE FirstPartyCookie != 0 AND VisitPurchases != 0)\n",
    "            ALL LEFT JOIN\n",
    "                (SELECT\n",
    "                    FirstPartyCookie,\n",
    "                    DateTime,\n",
    "                    if(\n",
    "                        lower(UTMMedium) IN ('cpa', 'cpc', 'marketplace'), \n",
    "                        lower(UTMMedium),\n",
    "                        if(\n",
    "                            LastTraficSource = 'ad', \n",
    "                            if(\n",
    "                                LastAdvEngine = 'market', \n",
    "                                'marketplace',\n",
    "                                if(\n",
    "                                    (DirectConditionType = 2) OR (extractURLParameter(StartURL, 'ref') = 'ga_ref'),\n",
    "                                    'retargeting',\n",
    "                                    'media_ad')\n",
    "                            ),\n",
    "                            if(\n",
    "                               LastTraficSource IN ('direct', 'saved', 'undefined', 'internal'),\n",
    "                               'direct',\n",
    "                               LastTraficSource\n",
    "                            ) \n",
    "                        )\n",
    "                    ) as Source,\n",
    "                    if(Source = 'organic', \n",
    "                        if(LastSearchEngine IN ('yandex', 'google'), concat('organic ', LastSearchEngine), 'organic other'),\n",
    "                        if(Source IN ('media_ad', 'retargeting', 'cpa', 'cpc'),\n",
    "                            if(\n",
    "                                LastAdvEngine IN ('market', 'google_adwords', 'yandex'), \n",
    "                                concat(Source, concat(' ', LastAdvEngine)),\n",
    "                                concat(Source, ' other')\n",
    "                            ),\n",
    "                            Source\n",
    "                        )) as SourceDetailed\n",
    "                 FROM visits_all \n",
    "                 ORDER BY DateTime)\n",
    "            USING FirstPartyCookie\n",
    "            WHERE PurchaseTime >= DateTime)\n",
    "        GROUP BY VisitID)\n",
    "    GROUP BY SourcesDetailed\n",
    "    ORDER BY Purchases DESC\n",
    "    LIMIT 10\n",
    "    FORMAT TabSeparatedWithNames\n",
    "'''\n",
    "\n",
    "%time get_clickhouse_df(q)"
   ]
  },
  {
   "cell_type": "markdown",
   "metadata": {},
   "source": [
    "## Модели аттрибуции"
   ]
  },
  {
   "cell_type": "markdown",
   "metadata": {},
   "source": [
    "### Модель по последнему переходу"
   ]
  },
  {
   "cell_type": "code",
   "execution_count": 19,
   "metadata": {
    "collapsed": false
   },
   "outputs": [
    {
     "name": "stdout",
     "output_type": "stream",
     "text": [
      "CPU times: user 11.7 ms, sys: 5.75 ms, total: 17.4 ms\n",
      "Wall time: 1.71 s\n"
     ]
    }
   ],
   "source": [
    "q = '''\n",
    "    SELECT \n",
    "        count() as Visits,\n",
    "        sum(arraySum(PurchaseRevenue)) as Revenue,\n",
    "        sum(length(PurchaseID)) as Purchases,\n",
    "        if(\n",
    "            lower(UTMMedium) IN ('cpa', 'cpc', 'marketplace'), \n",
    "            lower(UTMMedium),\n",
    "            if(\n",
    "                LastTraficSource = 'ad', \n",
    "                if(\n",
    "                    LastAdvEngine = 'market', \n",
    "                    'marketplace',\n",
    "                    if(\n",
    "                        (DirectConditionType = 2) OR (extractURLParameter(StartURL, 'ref') = 'ga_ref'),\n",
    "                        'retargeting',\n",
    "                        'media_ad')\n",
    "                ),\n",
    "                if(\n",
    "                   LastTraficSource IN ('direct', 'saved', 'undefined', 'internal'),\n",
    "                   'direct',\n",
    "                   LastTraficSource\n",
    "                ) \n",
    "            )\n",
    "        ) as Source,\n",
    "        if(Source = 'organic', \n",
    "            if(LastSearchEngine IN ('yandex', 'google'), concat('organic ', LastSearchEngine), 'organic other'),\n",
    "            if(Source IN ('media_ad', 'retargeting', 'cpa', 'cpc'),\n",
    "                if(\n",
    "                    LastAdvEngine IN ('market', 'google_adwords', 'yandex'), \n",
    "                    concat(Source, concat(' ', LastAdvEngine)),\n",
    "                    concat(Source, ' other')\n",
    "                ),\n",
    "                Source\n",
    "            )) as SourceDetailed\n",
    "    FROM visits_all\n",
    "    WHERE FirstPartyCookie != 0\n",
    "    GROUP BY Source, SourceDetailed\n",
    "    FORMAT TabSeparatedWithNames\n",
    "'''\n",
    "\n",
    "%time last_raw_df = get_clickhouse_df(q).groupby(['Source', 'SourceDetailed']).sum()"
   ]
  },
  {
   "cell_type": "code",
   "execution_count": 20,
   "metadata": {
    "collapsed": false
   },
   "outputs": [],
   "source": [
    "last_raw_df_norm = last_raw_df.apply(lambda x: 100.*x/last_raw_df.sum(), axis = 1)"
   ]
  },
  {
   "cell_type": "markdown",
   "metadata": {},
   "source": [
    "### Кастомная модель с поведением"
   ]
  },
  {
   "cell_type": "markdown",
   "metadata": {},
   "source": [
    "Напишем базовую функцию для расчета модели атрибуции:\n",
    "* будем учитывать только источники без отказа\n",
    "* источники, в которых была достигнута цель \"Добавление в корзину\" будет иметь вес на 50% обычного\n",
    "* источники визитов, в которых были просмотры товаров будут иметь весь 10% больше обычного"
   ]
  },
  {
   "cell_type": "code",
   "execution_count": 36,
   "metadata": {
    "collapsed": true
   },
   "outputs": [],
   "source": [
    "def get_attribution_data_sample(i, N, where_condition = ''):\n",
    "    q = '''\n",
    "    SELECT \n",
    "        sum(VisitRevenue*SourceCoefNorm) as Revenue,\n",
    "        sum(VisitPurchases*SourceCoefNorm) as Purchases,\n",
    "        sum(SourceCoefNorm) as Visits,\n",
    "        Source,\n",
    "        SourceDetailed\n",
    "    FROM\n",
    "        (SELECT \n",
    "            groupArray(Source) as Sources,\n",
    "            groupArray(SourceDetailed) as SourcesDetailed,\n",
    "            groupArray(HasCart) as HasCarts,\n",
    "            groupArray(HasImpression) as HasImpressions,\n",
    "            VisitID,\n",
    "            any(FirstPartyCookie) as FirstPartyCookie,\n",
    "            any(DateTime) as StartTime,\n",
    "            any(VisitRevenue) as VisitRevenue,\n",
    "            any(VisitPurchases) as VisitPurchases,\n",
    "            arrayMap(x, y -> 1 + 0.5*x + 0.1*y, HasCarts, HasImpressions) as SourcesCoefs,\n",
    "            arraySum(SourcesCoefs) as SourcesCoefsSum,\n",
    "            arrayMap(x -> x/SourcesCoefsSum, SourcesCoefs) as SourcesCoefsNorm\n",
    "        FROM\n",
    "            (SELECT\n",
    "                FirstPartyCookie,\n",
    "                DateTime,\n",
    "                VisitRevenue,\n",
    "                VisitPurchases,\n",
    "                SourceTime,\n",
    "                Source,\n",
    "                HasCart,\n",
    "                HasImpression,\n",
    "                SourceDetailed,\n",
    "                VisitID,\n",
    "                LastSearchEngine,\n",
    "                LastAdvEngine\n",
    "            FROM\n",
    "                (SELECT\n",
    "                    FirstPartyCookie,\n",
    "                    DateTime,\n",
    "                    arraySum(PurchaseRevenue) as VisitRevenue,\n",
    "                    length(PurchaseID) as VisitPurchases,\n",
    "                    LastTraficSource,\n",
    "                    VisitID,\n",
    "                    LastSearchEngine,\n",
    "                    LastAdvEngine\n",
    "                FROM visits_all SAMPLE 1/{N} OFFSET {i}/{N}\n",
    "                WHERE FirstPartyCookie != 0)\n",
    "            ALL LEFT JOIN\n",
    "                (SELECT\n",
    "                    FirstPartyCookie,\n",
    "                    DateTime as SourceTime,\n",
    "                    if(\n",
    "                        lower(UTMMedium) IN ('cpa', 'cpc', 'marketplace'), \n",
    "                        lower(UTMMedium),\n",
    "                        if(\n",
    "                            LastTraficSource = 'ad', \n",
    "                            if(\n",
    "                                LastAdvEngine = 'market', \n",
    "                                'marketplace',\n",
    "                                if(\n",
    "                                    (DirectConditionType = 2) OR (extractURLParameter(StartURL, 'ref') = 'ga_ref'),\n",
    "                                    'retargeting',\n",
    "                                    'media_ad')\n",
    "                            ),\n",
    "                            if(\n",
    "                               LastTraficSource IN ('direct', 'saved', 'undefined', 'internal'),\n",
    "                               'direct',\n",
    "                               LastTraficSource\n",
    "                            ) \n",
    "                        )\n",
    "                    ) as Source,\n",
    "                    if(Source = 'organic', \n",
    "                        if(LastSearchEngine IN ('yandex', 'google'), concat('organic ', LastSearchEngine), 'organic other'),\n",
    "                        if(Source IN ('media_ad', 'retargeting', 'cpa', 'cpc'),\n",
    "                            if(\n",
    "                                LastAdvEngine IN ('market', 'google_adwords', 'yandex'), \n",
    "                                concat(Source, concat(' ', LastAdvEngine)),\n",
    "                                concat(Source, ' other')\n",
    "                            ),\n",
    "                            Source\n",
    "                        )) as SourceDetailed,\n",
    "                    has(GoalsID, 552829) as HasCart,\n",
    "                    length(ImpressionsProductID) > 0 as HasImpression\n",
    "                 FROM visits_all SAMPLE 1/{N} OFFSET {i}/{N} {where_condition}\n",
    "                 )\n",
    "            USING FirstPartyCookie\n",
    "            WHERE SourceTime <= DateTime\n",
    "            ORDER BY SourceTime)\n",
    "        GROUP BY VisitID)\n",
    "    ARRAY JOIN\n",
    "        SourcesCoefsNorm as SourceCoefNorm,\n",
    "        Sources as Source,\n",
    "        SourcesDetailed as SourceDetailed\n",
    "    GROUP BY Source, SourceDetailed\n",
    "    ORDER BY Visits DESC\n",
    "    FORMAT TabSeparatedWithNames\n",
    "    '''.format(\n",
    "        i = i, N = N,\n",
    "        where_condition = where_condition\n",
    "    )\n",
    "    # print q\n",
    "    return get_clickhouse_df(q)\n",
    "\n",
    "def get_attribution_data(where_condition=''):\n",
    "    tmp_dfs = []\n",
    "    for i in range(10):\n",
    "        tmp_dfs.append(get_attribution_data_sample(i, 10, where_condition))\n",
    "    \n",
    "    return pd.concat(tmp_dfs).groupby(['Source', 'SourceDetailed']).sum()"
   ]
  },
  {
   "cell_type": "code",
   "execution_count": 37,
   "metadata": {
    "collapsed": false
   },
   "outputs": [
    {
     "name": "stdout",
     "output_type": "stream",
     "text": [
      "CPU times: user 61.8 ms, sys: 7.54 ms, total: 69.4 ms\n",
      "Wall time: 26.8 s\n"
     ]
    }
   ],
   "source": [
    "%time not_bounce_df = get_attribution_data(where_condition = 'WHERE IsBounce = 0')"
   ]
  },
  {
   "cell_type": "code",
   "execution_count": 38,
   "metadata": {
    "collapsed": true
   },
   "outputs": [],
   "source": [
    "not_bounce_df_norm = not_bounce_df.apply(lambda x: 100.*x/not_bounce_df.sum(), axis = 1)"
   ]
  },
  {
   "cell_type": "markdown",
   "metadata": {},
   "source": [
    "### Кастомная модель c перевзвешенными каналами и затуханием по времени"
   ]
  },
  {
   "cell_type": "code",
   "execution_count": 24,
   "metadata": {
    "collapsed": true
   },
   "outputs": [],
   "source": [
    "traffic_sources_coeffs = {\n",
    "    'direct': 0.1,\n",
    "    'referral': 0.2,\n",
    "    'social': 0.3,\n",
    "    'cpa': 0.5,\n",
    "    'cpc': 0.5,\n",
    "    'retargeting': 0.3,\n",
    "    'organic': 0.4,\n",
    "    'email': 0.4,\n",
    "    'media_ad': 0.5,\n",
    "    'marketplace': 0.5\n",
    "}"
   ]
  },
  {
   "cell_type": "code",
   "execution_count": 25,
   "metadata": {
    "collapsed": true
   },
   "outputs": [],
   "source": [
    "def get_attribution_data_pos_sample(i, N, traffic_sources_coeffs, where_condition = ''):\n",
    "    q = '''\n",
    "    SELECT \n",
    "        sum(VisitRevenue*SourceCoefNorm) as Revenue,\n",
    "        sum(VisitPurchases*SourceCoefNorm) as Purchases,\n",
    "        sum(SourceCoefNorm) as Visits,\n",
    "        Source,\n",
    "        SourceDetailed\n",
    "    FROM\n",
    "        (SELECT \n",
    "            groupArray(Source) as Sources,\n",
    "            groupArray(SourceDetailed) as SourcesDetailed,\n",
    "            VisitID,\n",
    "            any(FirstPartyCookie) as FirstPartyCookie,\n",
    "            any(DateTime) as StartTime,\n",
    "            any(VisitRevenue) as VisitRevenue,\n",
    "            any(VisitPurchases) as VisitPurchases,\n",
    "            arrayMap(x -> transform(x, [{traffic_sources}], [{traffic_sources_coeffs}], 0), Sources) as SourcesRawCoefs,\n",
    "            arrayMap(x -> 1/(length(SourcesRawCoefs) - x), range(length(SourcesRawCoefs))) as PositionCoefs,\n",
    "            arrayMap(x, y -> x * y, SourcesRawCoefs, PositionCoefs) as SourcesCoefs,\n",
    "            arraySum(SourcesCoefs) as SourcesCoefsSum,\n",
    "            arrayMap(x -> x/SourcesCoefsSum, SourcesCoefs) as SourcesCoefsNorm\n",
    "        FROM\n",
    "            (SELECT\n",
    "                FirstPartyCookie,\n",
    "                DateTime,\n",
    "                VisitRevenue,\n",
    "                VisitPurchases,\n",
    "                SourceTime,\n",
    "                Source,\n",
    "                SourceDetailed,\n",
    "                VisitID,\n",
    "                LastSearchEngine,\n",
    "                LastAdvEngine\n",
    "            FROM\n",
    "                (SELECT\n",
    "                    FirstPartyCookie,\n",
    "                    DateTime,\n",
    "                    arraySum(PurchaseRevenue) as VisitRevenue,\n",
    "                    length(PurchaseID) as VisitPurchases,\n",
    "                    LastTraficSource,\n",
    "                    VisitID,\n",
    "                    LastSearchEngine,\n",
    "                    LastAdvEngine\n",
    "                FROM visits_all SAMPLE 1/{N} OFFSET {i}/{N}\n",
    "                WHERE FirstPartyCookie != 0)\n",
    "            ALL LEFT JOIN\n",
    "                (SELECT\n",
    "                    FirstPartyCookie,\n",
    "                    DateTime as SourceTime,\n",
    "                    if(\n",
    "                        lower(UTMMedium) IN ('cpa', 'cpc', 'marketplace'), \n",
    "                        lower(UTMMedium),\n",
    "                        if(\n",
    "                            LastTraficSource = 'ad', \n",
    "                            if(\n",
    "                                LastAdvEngine = 'market', \n",
    "                                'marketplace',\n",
    "                                if(\n",
    "                                    (DirectConditionType = 2) OR (extractURLParameter(StartURL, 'ref') = 'ga_ref'),\n",
    "                                    'retargeting',\n",
    "                                    'media_ad')\n",
    "                            ),\n",
    "                            if(\n",
    "                               LastTraficSource IN ('direct', 'saved', 'undefined', 'internal'),\n",
    "                               'direct',\n",
    "                               LastTraficSource\n",
    "                            ) \n",
    "                        )\n",
    "                    ) as Source,\n",
    "                    if(Source = 'organic', \n",
    "                        if(LastSearchEngine IN ('yandex', 'google'), concat('organic ', LastSearchEngine), 'organic other'),\n",
    "                        if(Source IN ('media_ad', 'retargeting', 'cpa', 'cpc'),\n",
    "                            if(\n",
    "                                LastAdvEngine IN ('market', 'google_adwords', 'yandex'), \n",
    "                                concat(Source, concat(' ', LastAdvEngine)),\n",
    "                                concat(Source, ' other')\n",
    "                            ),\n",
    "                            Source\n",
    "                        )) as SourceDetailed\n",
    "                 FROM visits_all SAMPLE 1/{N} OFFSET {i}/{N} {where_condition})\n",
    "            USING FirstPartyCookie\n",
    "            WHERE SourceTime <= DateTime\n",
    "            ORDER BY SourceTime)\n",
    "        GROUP BY VisitID)\n",
    "    ARRAY JOIN\n",
    "        SourcesCoefsNorm as SourceCoefNorm,\n",
    "        Sources as Source,\n",
    "        SourcesDetailed as SourceDetailed\n",
    "    GROUP BY Source, SourceDetailed\n",
    "    ORDER BY Visits DESC\n",
    "    FORMAT TabSeparatedWithNames\n",
    "    '''.format(\n",
    "        traffic_sources = ', '.join(map(lambda x: \"'%s'\" % x, traffic_sources_coeffs.keys())),\n",
    "        traffic_sources_coeffs = ', '.join(map(str, traffic_sources_coeffs.values())),\n",
    "        i = i, N = N,\n",
    "        where_condition = where_condition\n",
    "    )\n",
    "    # print q\n",
    "    return get_clickhouse_df(q)\n",
    "\n",
    "def get_attribution_data_pos(traffic_sources_coeffs, where_condition=''):\n",
    "    tmp_dfs = []\n",
    "    for i in range(10):\n",
    "        tmp_dfs.append(get_attribution_data_pos_sample(i, 10, traffic_sources_coeffs, where_condition))\n",
    "    \n",
    "    return pd.concat(tmp_dfs).groupby(['Source', 'SourceDetailed']).sum()"
   ]
  },
  {
   "cell_type": "code",
   "execution_count": 26,
   "metadata": {
    "collapsed": false
   },
   "outputs": [
    {
     "name": "stdout",
     "output_type": "stream",
     "text": [
      "CPU times: user 66.7 ms, sys: 8.93 ms, total: 75.6 ms\n",
      "Wall time: 23.9 s\n"
     ]
    }
   ],
   "source": [
    "%time not_bounce_pos_df = get_attribution_data_pos(traffic_sources_coeffs, where_condition = 'WHERE IsBounce = 0')"
   ]
  },
  {
   "cell_type": "code",
   "execution_count": 27,
   "metadata": {
    "collapsed": true
   },
   "outputs": [],
   "source": [
    "not_bounce_pos_df_norm = not_bounce_pos_df.apply(lambda x: 100.*x/not_bounce_pos_df.sum(), axis = 1)"
   ]
  },
  {
   "cell_type": "markdown",
   "metadata": {},
   "source": [
    "## Сравним получившиеся модели\n",
    "Для визуализации будем использовать библиотеку `plot.ly`, которая позволяет строить интерактивные визуализации прямо в Jupyter Notebook'e и к тому же она open source."
   ]
  },
  {
   "cell_type": "code",
   "execution_count": 28,
   "metadata": {
    "collapsed": false
   },
   "outputs": [
    {
     "name": "stdout",
     "output_type": "stream",
     "text": [
      "1.12.9\n"
     ]
    },
    {
     "data": {
      "text/html": [
       "<script>requirejs.config({paths: { 'plotly': ['https://cdn.plot.ly/plotly-latest.min']},});if(!window.Plotly) {{require(['plotly'],function(plotly) {window.Plotly=plotly;});}}</script>"
      ],
      "text/plain": [
       "<IPython.core.display.HTML object>"
      ]
     },
     "metadata": {},
     "output_type": "display_data"
    }
   ],
   "source": [
    "from plotly import __version__\n",
    "from plotly.offline import download_plotlyjs, init_notebook_mode, plot, iplot\n",
    "from plotly import graph_objs as go\n",
    "import requests\n",
    "import StringIO\n",
    "import pandas as pd\n",
    "\n",
    "print __version__ # need 1.9.0 or greater\n",
    "\n",
    "init_notebook_mode(connected = True)\n",
    "\n",
    "def show_bar_plot(cmp_df):\n",
    "    data = []\n",
    "    for column in cmp_df.columns:\n",
    "        trace = go.Bar(\n",
    "            x = cmp_df.index.values,\n",
    "            y = cmp_df[column].values,\n",
    "            name = column\n",
    "        )\n",
    "        data.append(trace)\n",
    "    layout = go.Layout({'xaxis': {'tickangle': 45}})\n",
    "    fig = go.Figure(data = data, layout = layout)\n",
    "    iplot(fig, show_link=False)"
   ]
  },
  {
   "cell_type": "code",
   "execution_count": 29,
   "metadata": {
    "collapsed": false
   },
   "outputs": [],
   "source": [
    "dct = {\n",
    "    'last click': last_raw_df_norm,\n",
    "    'behaviour': not_bounce_df_norm,\n",
    "    'time decay & weights': not_bounce_pos_df_norm,\n",
    "}"
   ]
  },
  {
   "cell_type": "code",
   "execution_count": 30,
   "metadata": {
    "collapsed": true
   },
   "outputs": [],
   "source": [
    "def get_comparison(parameter, detalization, show_delta = False):\n",
    "    cmp_df = pd.DataFrame()\n",
    "    for item in dct:\n",
    "        cmp_df[item] = dct[item].reset_index().groupby(detalization)[parameter].sum()\n",
    "    cmp_df = cmp_df.sort_values('last click', ascending = False)\n",
    "    if not show_delta:\n",
    "        return cmp_df\n",
    "    cmp_df_norm = cmp_df.apply(lambda x: x - cmp_df['last click']).drop('last click', axis = 1).sort_values('behaviour')\n",
    "    return cmp_df_norm"
   ]
  },
  {
   "cell_type": "code",
   "execution_count": 35,
   "metadata": {
    "collapsed": false
   },
   "outputs": [
    {
     "data": {
      "text/html": [
       "<div id=\"db068beb-c5ba-46f4-b523-168481a1d9d7\" style=\"height: 525px; width: 100%;\" class=\"plotly-graph-div\"></div><script type=\"text/javascript\">require([\"plotly\"], function(Plotly) { window.PLOTLYENV=window.PLOTLYENV || {};window.PLOTLYENV.BASE_URL=\"https://plot.ly\";Plotly.newPlot(\"db068beb-c5ba-46f4-b523-168481a1d9d7\", [{\"y\": [28.710140459313145, 31.374799654624685, 22.8722664767611, 6.451559472056321, 4.883651681430759, 3.538934288707509, 1.5323223811611757, 0.45049364409330145, 0.1785684251583005, 0.0072635166936983655], \"x\": [\"cpc\", \"organic\", \"direct\", \"cpa\", \"media_ad\", \"email\", \"referral\", \"social\", \"marketplace\", \"retargeting\"], \"type\": \"bar\", \"name\": \"behaviour\"}, {\"y\": [28.831808073937, 27.775738068885133, 26.11242687977265, 7.3041374955193765, 4.5194184566952815, 3.281266869957111, 1.5374710917330805, 0.4555384672957698, 0.17085946524149806, 0.011335130963099781], \"x\": [\"cpc\", \"organic\", \"direct\", \"cpa\", \"media_ad\", \"email\", \"referral\", \"social\", \"marketplace\", \"retargeting\"], \"type\": \"bar\", \"name\": \"last click\"}, {\"y\": [31.225894877671465, 31.694608236761038, 18.041906185189546, 7.59931981707346, 5.557470151781223, 3.8140049052562075, 1.4178503591879141, 0.4531988058227903, 0.18781455439703706, 0.007932106859319726], \"x\": [\"cpc\", \"organic\", \"direct\", \"cpa\", \"media_ad\", \"email\", \"referral\", \"social\", \"marketplace\", \"retargeting\"], \"type\": \"bar\", \"name\": \"time decay & weights\"}], {\"xaxis\": {\"tickangle\": 45}}, {\"linkText\": \"Export to plot.ly\", \"showLink\": false})});</script>"
      ],
      "text/plain": [
       "<IPython.core.display.HTML object>"
      ]
     },
     "metadata": {},
     "output_type": "display_data"
    }
   ],
   "source": [
    "show_bar_plot(get_comparison('Revenue', 'Source', show_delta=False))"
   ]
  },
  {
   "cell_type": "code",
   "execution_count": 32,
   "metadata": {
    "collapsed": false
   },
   "outputs": [
    {
     "data": {
      "text/html": [
       "<div id=\"e9a8f2f8-72df-4014-9114-0fb078c20f8d\" style=\"height: 525px; width: 100%;\" class=\"plotly-graph-div\"></div><script type=\"text/javascript\">require([\"plotly\"], function(Plotly) { window.PLOTLYENV=window.PLOTLYENV || {};window.PLOTLYENV.BASE_URL=\"https://plot.ly\";Plotly.newPlot(\"e9a8f2f8-72df-4014-9114-0fb078c20f8d\", [{\"y\": [-3.240160403011547, -0.8525780234630558, -0.12166761462385622, -0.005148710571904802, -0.0050448232024683515, -0.0040716142694014155, 0.007708959916802427, 0.257667418750398, 0.3642332247354778, 3.599061585739552], \"x\": [\"direct\", \"cpa\", \"cpc\", \"referral\", \"social\", \"retargeting\", \"marketplace\", \"email\", \"media_ad\", \"organic\"], \"type\": \"bar\", \"name\": \"behaviour\"}, {\"y\": [-8.070520694583102, 0.2951823215540834, 2.3940868037344636, -0.11962073254516636, -0.002339661472979482, -0.003403024103780055, 0.016955089155539005, 0.5327380352990967, 1.038051695085941, 3.9188701678759053], \"x\": [\"direct\", \"cpa\", \"cpc\", \"referral\", \"social\", \"retargeting\", \"marketplace\", \"email\", \"media_ad\", \"organic\"], \"type\": \"bar\", \"name\": \"time decay & weights\"}], {\"xaxis\": {\"tickangle\": 45}}, {\"linkText\": \"Export to plot.ly\", \"showLink\": false})});</script>"
      ],
      "text/plain": [
       "<IPython.core.display.HTML object>"
      ]
     },
     "metadata": {},
     "output_type": "display_data"
    }
   ],
   "source": [
    "show_bar_plot(get_comparison('Revenue', 'Source', show_delta=True))"
   ]
  },
  {
   "cell_type": "code",
   "execution_count": 33,
   "metadata": {
    "collapsed": false
   },
   "outputs": [
    {
     "data": {
      "text/html": [
       "<div id=\"0f354a75-ea92-4dac-9269-c468f9982221\" style=\"height: 525px; width: 100%;\" class=\"plotly-graph-div\"></div><script type=\"text/javascript\">require([\"plotly\"], function(Plotly) { window.PLOTLYENV=window.PLOTLYENV || {};window.PLOTLYENV.BASE_URL=\"https://plot.ly\";Plotly.newPlot(\"0f354a75-ea92-4dac-9269-c468f9982221\", [{\"y\": [22.8722664767611, 21.407564561841898, 12.281692212800742, 11.021434641908167, 8.614943491555959, 6.135088881108744, 5.2351960184978985, 4.202877356488929, 3.538934288707509, 1.5323223811611757, 1.3522916012268278, 0.5906985257743311, 0.45049364409330145, 0.21464064006639982, 0.17181758610633804, 0.1785684251583005, 0.07753815400629716, 0.09007579916749861, 0.024291796874879798, 0.0072635166936983655], \"x\": [\"direct\", \"organic yandex\", \"cpc market\", \"cpc yandex\", \"organic google\", \"cpa other\", \"cpc other\", \"media_ad google_adwords\", \"email\", \"referral\", \"organic other\", \"media_ad yandex\", \"social\", \"cpa google_adwords\", \"cpc google_adwords\", \"marketplace\", \"cpa yandex\", \"media_ad other\", \"cpa market\", \"retargeting yandex\"], \"type\": \"bar\", \"name\": \"behaviour\"}, {\"y\": [26.11242687977265, 19.092474173988283, 12.861902023542669, 10.57952828749266, 7.4200832180381076, 6.939961990508325, 5.208586053495561, 3.927139165900515, 3.281266869957111, 1.5374710917330805, 1.263180676858742, 0.5323819736380192, 0.4555384672957698, 0.2528234496779494, 0.18179170940610995, 0.17085946524149806, 0.09004163887332076, 0.0598973171567472, 0.021310416459780948, 0.011335130963099781], \"x\": [\"direct\", \"organic yandex\", \"cpc market\", \"cpc yandex\", \"organic google\", \"cpa other\", \"cpc other\", \"media_ad google_adwords\", \"email\", \"referral\", \"organic other\", \"media_ad yandex\", \"social\", \"cpa google_adwords\", \"cpc google_adwords\", \"marketplace\", \"cpa yandex\", \"media_ad other\", \"cpa market\", \"retargeting yandex\"], \"type\": \"bar\", \"name\": \"last click\"}, {\"y\": [18.041906185189546, 21.51632136103879, 13.241280714700736, 12.066954848745672, 8.795406507503507, 7.229810950162258, 5.731193002834301, 4.8110530715070885, 3.8140049052562075, 1.4178503591879141, 1.3828803682187383, 0.6578292488288591, 0.4531988058227903, 0.25656948255124296, 0.18646631139075812, 0.18781455439703706, 0.08965023338788938, 0.08858783144527484, 0.023289150972070176, 0.007932106859319726], \"x\": [\"direct\", \"organic yandex\", \"cpc market\", \"cpc yandex\", \"organic google\", \"cpa other\", \"cpc other\", \"media_ad google_adwords\", \"email\", \"referral\", \"organic other\", \"media_ad yandex\", \"social\", \"cpa google_adwords\", \"cpc google_adwords\", \"marketplace\", \"cpa yandex\", \"media_ad other\", \"cpa market\", \"retargeting yandex\"], \"type\": \"bar\", \"name\": \"time decay & weights\"}], {\"xaxis\": {\"tickangle\": 45}}, {\"linkText\": \"Export to plot.ly\", \"showLink\": false})});</script>"
      ],
      "text/plain": [
       "<IPython.core.display.HTML object>"
      ]
     },
     "metadata": {},
     "output_type": "display_data"
    }
   ],
   "source": [
    "show_bar_plot(get_comparison('Revenue', 'SourceDetailed'))"
   ]
  },
  {
   "cell_type": "code",
   "execution_count": 34,
   "metadata": {
    "collapsed": false
   },
   "outputs": [
    {
     "data": {
      "text/html": [
       "<div id=\"211c1fd3-ef65-4940-8a74-eb249c0ac7f5\" style=\"height: 525px; width: 100%;\" class=\"plotly-graph-div\"></div><script type=\"text/javascript\">require([\"plotly\"], function(Plotly) { window.PLOTLYENV=window.PLOTLYENV || {};window.PLOTLYENV.BASE_URL=\"https://plot.ly\";Plotly.newPlot(\"211c1fd3-ef65-4940-8a74-eb249c0ac7f5\", [{\"y\": [-3.240160403011547, -0.8048731093995816, -0.5802098107419269, -0.03818280961154957, -0.012503484867023601, -0.009974123299771903, -0.005148710571904802, -0.0050448232024683515, -0.0040716142694014155, 0.00298138041509885, 0.007708959916802427, 0.026609965002337255, 0.030178482010751413, 0.05831655213631193, 0.08911092436808588, 0.257667418750398, 0.275738190588414, 0.4419063544155062, 1.1948602735178513, 2.3150903878536155], \"x\": [\"direct\", \"cpa other\", \"cpc market\", \"cpa google_adwords\", \"cpa yandex\", \"cpc google_adwords\", \"referral\", \"social\", \"retargeting yandex\", \"cpa market\", \"marketplace\", \"cpc other\", \"media_ad other\", \"media_ad yandex\", \"organic other\", \"email\", \"media_ad google_adwords\", \"cpc yandex\", \"organic google\", \"organic yandex\"], \"type\": \"bar\", \"name\": \"behaviour\"}, {\"y\": [-8.070520694583102, 0.2898489596539324, 0.37937869115806677, 0.003746032873293559, -0.0003914054854313731, 0.004674601984648169, -0.11962073254516636, -0.002339661472979482, -0.003403024103780055, 0.0019787345122892278, 0.016955089155539005, 0.5226069493387397, 0.02869051428852764, 0.12544727519083987, 0.11969969135999636, 0.5327380352990967, 0.8839139056065735, 1.4874265612530113, 1.3753232894654, 2.4238471870505087], \"x\": [\"direct\", \"cpa other\", \"cpc market\", \"cpa google_adwords\", \"cpa yandex\", \"cpc google_adwords\", \"referral\", \"social\", \"retargeting yandex\", \"cpa market\", \"marketplace\", \"cpc other\", \"media_ad other\", \"media_ad yandex\", \"organic other\", \"email\", \"media_ad google_adwords\", \"cpc yandex\", \"organic google\", \"organic yandex\"], \"type\": \"bar\", \"name\": \"time decay & weights\"}], {\"xaxis\": {\"tickangle\": 45}}, {\"linkText\": \"Export to plot.ly\", \"showLink\": false})});</script>"
      ],
      "text/plain": [
       "<IPython.core.display.HTML object>"
      ]
     },
     "metadata": {},
     "output_type": "display_data"
    }
   ],
   "source": [
    "show_bar_plot(get_comparison('Revenue', 'SourceDetailed', show_delta=True))"
   ]
  },
  {
   "cell_type": "code",
   "execution_count": null,
   "metadata": {
    "collapsed": true
   },
   "outputs": [],
   "source": []
  }
 ],
 "metadata": {
  "kernelspec": {
   "display_name": "Python [Root]",
   "language": "python",
   "name": "Python [Root]"
  },
  "language_info": {
   "codemirror_mode": {
    "name": "ipython",
    "version": 2
   },
   "file_extension": ".py",
   "mimetype": "text/x-python",
   "name": "python",
   "nbconvert_exporter": "python",
   "pygments_lexer": "ipython2",
   "version": "2.7.12"
  }
 },
 "nbformat": 4,
 "nbformat_minor": 1
}
