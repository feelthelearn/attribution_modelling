{
 "cells": [
  {
   "cell_type": "code",
   "execution_count": 17,
   "metadata": {
    "collapsed": false
   },
   "outputs": [
    {
     "name": "stdout",
     "output_type": "stream",
     "text": [
      "1.12.9\n"
     ]
    },
    {
     "data": {
      "text/html": [
       "<script>requirejs.config({paths: { 'plotly': ['https://cdn.plot.ly/plotly-latest.min']},});if(!window.Plotly) {{require(['plotly'],function(plotly) {window.Plotly=plotly;});}}</script>"
      ],
      "text/plain": [
       "<IPython.core.display.HTML object>"
      ]
     },
     "metadata": {},
     "output_type": "display_data"
    }
   ],
   "source": [
    "import pandas as pd\n",
    "from plotly import __version__\n",
    "from plotly.offline import download_plotlyjs, init_notebook_mode, plot, iplot\n",
    "from plotly import graph_objs as go\n",
    "import requests\n",
    "import StringIO\n",
    "import pandas as pd\n",
    "\n",
    "print __version__ # need 1.9.0 or greater\n",
    "\n",
    "init_notebook_mode(connected = True)\n",
    "\n",
    "def show_bar_plot(cmp_df):\n",
    "    data = []\n",
    "    for column in cmp_df.columns:\n",
    "        trace = go.Bar(\n",
    "            x = cmp_df.index.values,\n",
    "            y = cmp_df[column].values,\n",
    "            name = column\n",
    "        )\n",
    "        data.append(trace)\n",
    "    layout = go.Layout({'xaxis': {'tickangle': 45}})\n",
    "    fig = go.Figure(data = data, layout = layout)\n",
    "    iplot(fig, show_link=False)"
   ]
  },
  {
   "cell_type": "markdown",
   "metadata": {},
   "source": [
    "## Пути к покупке"
   ]
  },
  {
   "cell_type": "code",
   "execution_count": 2,
   "metadata": {
    "collapsed": true
   },
   "outputs": [],
   "source": [
    "paths_df = pd.read_csv('paths.csv')"
   ]
  },
  {
   "cell_type": "code",
   "execution_count": 4,
   "metadata": {
    "collapsed": false
   },
   "outputs": [
    {
     "data": {
      "text/html": [
       "<div>\n",
       "<table border=\"1\" class=\"dataframe\">\n",
       "  <thead>\n",
       "    <tr style=\"text-align: right;\">\n",
       "      <th></th>\n",
       "      <th>SourcesDetailed</th>\n",
       "      <th>count</th>\n",
       "    </tr>\n",
       "  </thead>\n",
       "  <tbody>\n",
       "    <tr>\n",
       "      <th>0</th>\n",
       "      <td>['direct','direct']</td>\n",
       "      <td>853</td>\n",
       "    </tr>\n",
       "    <tr>\n",
       "      <th>1</th>\n",
       "      <td>['organic yandex','organic yandex']</td>\n",
       "      <td>807</td>\n",
       "    </tr>\n",
       "    <tr>\n",
       "      <th>2</th>\n",
       "      <td>['cpc market','cpc market']</td>\n",
       "      <td>684</td>\n",
       "    </tr>\n",
       "    <tr>\n",
       "      <th>3</th>\n",
       "      <td>['organic yandex','direct']</td>\n",
       "      <td>368</td>\n",
       "    </tr>\n",
       "    <tr>\n",
       "      <th>4</th>\n",
       "      <td>['cpc yandex','cpc yandex']</td>\n",
       "      <td>343</td>\n",
       "    </tr>\n",
       "    <tr>\n",
       "      <th>5</th>\n",
       "      <td>['direct','direct','direct']</td>\n",
       "      <td>333</td>\n",
       "    </tr>\n",
       "    <tr>\n",
       "      <th>6</th>\n",
       "      <td>['organic google','organic google']</td>\n",
       "      <td>301</td>\n",
       "    </tr>\n",
       "    <tr>\n",
       "      <th>7</th>\n",
       "      <td>['cpc yandex','organic yandex']</td>\n",
       "      <td>219</td>\n",
       "    </tr>\n",
       "    <tr>\n",
       "      <th>8</th>\n",
       "      <td>['cpc market','cpc market','cpc market']</td>\n",
       "      <td>212</td>\n",
       "    </tr>\n",
       "    <tr>\n",
       "      <th>9</th>\n",
       "      <td>['organic yandex','organic yandex','organic ya...</td>\n",
       "      <td>211</td>\n",
       "    </tr>\n",
       "    <tr>\n",
       "      <th>10</th>\n",
       "      <td>['organic yandex','cpc yandex']</td>\n",
       "      <td>210</td>\n",
       "    </tr>\n",
       "    <tr>\n",
       "      <th>11</th>\n",
       "      <td>['direct','organic yandex']</td>\n",
       "      <td>209</td>\n",
       "    </tr>\n",
       "    <tr>\n",
       "      <th>12</th>\n",
       "      <td>['organic google','direct']</td>\n",
       "      <td>208</td>\n",
       "    </tr>\n",
       "    <tr>\n",
       "      <th>13</th>\n",
       "      <td>['organic yandex','cpc market']</td>\n",
       "      <td>195</td>\n",
       "    </tr>\n",
       "    <tr>\n",
       "      <th>14</th>\n",
       "      <td>['direct','direct','direct','direct']</td>\n",
       "      <td>188</td>\n",
       "    </tr>\n",
       "    <tr>\n",
       "      <th>15</th>\n",
       "      <td>['cpc market','organic yandex']</td>\n",
       "      <td>164</td>\n",
       "    </tr>\n",
       "    <tr>\n",
       "      <th>16</th>\n",
       "      <td>['media_ad google_adwords','media_ad google_ad...</td>\n",
       "      <td>163</td>\n",
       "    </tr>\n",
       "    <tr>\n",
       "      <th>17</th>\n",
       "      <td>['cpa other','cpa other']</td>\n",
       "      <td>161</td>\n",
       "    </tr>\n",
       "    <tr>\n",
       "      <th>18</th>\n",
       "      <td>['email','email']</td>\n",
       "      <td>152</td>\n",
       "    </tr>\n",
       "    <tr>\n",
       "      <th>19</th>\n",
       "      <td>['cpc other','cpc other']</td>\n",
       "      <td>133</td>\n",
       "    </tr>\n",
       "  </tbody>\n",
       "</table>\n",
       "</div>"
      ],
      "text/plain": [
       "                                      SourcesDetailed  count\n",
       "0                                 ['direct','direct']    853\n",
       "1                 ['organic yandex','organic yandex']    807\n",
       "2                         ['cpc market','cpc market']    684\n",
       "3                         ['organic yandex','direct']    368\n",
       "4                         ['cpc yandex','cpc yandex']    343\n",
       "5                        ['direct','direct','direct']    333\n",
       "6                 ['organic google','organic google']    301\n",
       "7                     ['cpc yandex','organic yandex']    219\n",
       "8            ['cpc market','cpc market','cpc market']    212\n",
       "9   ['organic yandex','organic yandex','organic ya...    211\n",
       "10                    ['organic yandex','cpc yandex']    210\n",
       "11                        ['direct','organic yandex']    209\n",
       "12                        ['organic google','direct']    208\n",
       "13                    ['organic yandex','cpc market']    195\n",
       "14              ['direct','direct','direct','direct']    188\n",
       "15                    ['cpc market','organic yandex']    164\n",
       "16  ['media_ad google_adwords','media_ad google_ad...    163\n",
       "17                          ['cpa other','cpa other']    161\n",
       "18                                  ['email','email']    152\n",
       "19                          ['cpc other','cpc other']    133"
      ]
     },
     "execution_count": 4,
     "metadata": {},
     "output_type": "execute_result"
    }
   ],
   "source": [
    "paths_df.head(20)"
   ]
  },
  {
   "cell_type": "markdown",
   "metadata": {},
   "source": [
    "## Модели аттрибуции"
   ]
  },
  {
   "cell_type": "code",
   "execution_count": 7,
   "metadata": {
    "collapsed": true
   },
   "outputs": [],
   "source": [
    "last_df_norm = pd.read_csv('last_df_norm.csv')\n",
    "df_not_bounce_norm = pd.read_csv('df_not_bounce_norm.csv')\n",
    "df_not_bounce2_norm = pd.read_csv('df_not_bounce2_norm.csv')\n",
    "df_not_bounce_pos_norm = pd.read_csv('df_not_bounce_pos_norm.csv')\n",
    "df_not_bounce_pos2_norm = pd.read_csv('df_not_bounce_pos2_norm.csv')"
   ]
  },
  {
   "cell_type": "code",
   "execution_count": 8,
   "metadata": {
    "collapsed": false
   },
   "outputs": [],
   "source": [
    "dct = {\n",
    "    'last_trafic_source': last_df_norm,\n",
    "    'sources_not_bounce_weighted': df_not_bounce_norm,\n",
    "    'sources_not_bounce': df_not_bounce2_norm,\n",
    "    'sources_not_bounce_with_position_weighted': df_not_bounce_pos_norm,\n",
    "    'sources_not_bounce_with_position': df_not_bounce_pos2_norm\n",
    "}"
   ]
  },
  {
   "cell_type": "markdown",
   "metadata": {},
   "source": [
    "### Высокоуровнево"
   ]
  },
  {
   "cell_type": "code",
   "execution_count": 11,
   "metadata": {
    "collapsed": true
   },
   "outputs": [],
   "source": [
    "value = 'Revenue'\n",
    "cmp_df = pd.DataFrame()\n",
    "for item in dct:\n",
    "    cmp_df[item] = dct[item].reset_index().groupby('Source')[value].sum()\n",
    "    \n",
    "cmp_df.sort_values('last_trafic_source', ascending = False, inplace = True)"
   ]
  },
  {
   "cell_type": "code",
   "execution_count": 18,
   "metadata": {
    "collapsed": false
   },
   "outputs": [
    {
     "data": {
      "text/html": [
       "<div id=\"6bdb8c96-b45c-4e84-a3a7-2b6add9e687c\" style=\"height: 525px; width: 100%;\" class=\"plotly-graph-div\"></div><script type=\"text/javascript\">require([\"plotly\"], function(Plotly) { window.PLOTLYENV=window.PLOTLYENV || {};window.PLOTLYENV.BASE_URL=\"https://plot.ly\";Plotly.newPlot(\"6bdb8c96-b45c-4e84-a3a7-2b6add9e687c\", [{\"y\": [29.260093081857995, 27.44994757672, 25.7704414729, 7.3766472044573, 4.689575015019, 3.3811969887199997, 1.3923266575, 0.520963604924, 0.15695695207000002, 0.00185144574826], \"x\": [\"cpc\", \"organic\", \"direct\", \"cpa\", \"media_ad\", \"email\", \"referral\", \"social\", \"marketplace\", \"retargeting\"], \"type\": \"bar\", \"name\": \"last_trafic_source\"}, {\"y\": [29.398519008744998, 30.67429388223, 22.606875904299997, 6.654201218200099, 4.998793766824, 3.5775014550999997, 1.4102299221899999, 0.519707791187, 0.158649093589, 0.00122795750181], \"x\": [\"cpc\", \"organic\", \"direct\", \"cpa\", \"media_ad\", \"email\", \"referral\", \"social\", \"marketplace\", \"retargeting\"], \"type\": \"bar\", \"name\": \"sources_not_bounce_with_position\"}, {\"y\": [29.241774920322, 30.91388715403, 22.490795998000003, 6.618570583346, 4.960455884058, 3.68088218513, 1.4172925158899998, 0.513020383681, 0.16104002772099998, 0.00228034775535], \"x\": [\"cpc\", \"organic\", \"direct\", \"cpa\", \"media_ad\", \"email\", \"referral\", \"social\", \"marketplace\", \"retargeting\"], \"type\": \"bar\", \"name\": \"sources_not_bounce\"}, {\"y\": [31.63733385514, 32.11123800469, 17.135973763499997, 7.4607435206229, 5.625981690084001, 3.98481220436, 1.34749624724, 0.5194384061289999, 0.175357514184, 0.0016247940141400003], \"x\": [\"cpc\", \"organic\", \"direct\", \"cpa\", \"media_ad\", \"email\", \"referral\", \"social\", \"marketplace\", \"retargeting\"], \"type\": \"bar\", \"name\": \"sources_not_bounce_weighted\"}, {\"y\": [31.622902930553998, 31.79114342675, 17.6443815982, 7.4362053912852, 5.602577235072, 3.8428508894599998, 1.3554034967, 0.531077357345, 0.172594361472, 0.000863313171748], \"x\": [\"cpc\", \"organic\", \"direct\", \"cpa\", \"media_ad\", \"email\", \"referral\", \"social\", \"marketplace\", \"retargeting\"], \"type\": \"bar\", \"name\": \"sources_not_bounce_with_position_weighted\"}], {\"xaxis\": {\"tickangle\": 45}}, {\"linkText\": \"Export to plot.ly\", \"showLink\": false})});</script>"
      ],
      "text/plain": [
       "<IPython.core.display.HTML object>"
      ]
     },
     "metadata": {},
     "output_type": "display_data"
    }
   ],
   "source": [
    "show_bar_plot(cmp_df)"
   ]
  },
  {
   "cell_type": "markdown",
   "metadata": {},
   "source": [
    "#### Изменения относительно базовой модели (по последнему источнику)"
   ]
  },
  {
   "cell_type": "code",
   "execution_count": 19,
   "metadata": {
    "collapsed": false
   },
   "outputs": [
    {
     "data": {
      "text/html": [
       "<div id=\"f712de75-3a29-4525-a9fe-05cc5a917a66\" style=\"height: 525px; width: 100%;\" class=\"plotly-graph-div\"></div><script type=\"text/javascript\">require([\"plotly\"], function(Plotly) { window.PLOTLYENV=window.PLOTLYENV || {};window.PLOTLYENV.BASE_URL=\"https://plot.ly\";Plotly.newPlot(\"f712de75-3a29-4525-a9fe-05cc5a917a66\", [{\"y\": [-3.163565568600003, -0.7224459862572008, 0.1384259268870025, -0.001255813737000011, -0.0006234882464499999, 0.00169214151899999, 0.01790326468999992, 0.309218751805, 0.19630446638, 3.22434630551], \"x\": [\"direct\", \"cpa\", \"cpc\", \"social\", \"retargeting\", \"marketplace\", \"referral\", \"media_ad\", \"email\", \"organic\"], \"type\": \"bar\", \"name\": \"sources_not_bounce_with_position\"}, {\"y\": [-3.279645474899997, -0.7580766211113001, -0.018318161535994193, -0.007943221242999954, 0.0004289020070899999, 0.004083075650999968, 0.024965858389999873, 0.2708808690389999, 0.29968519641000047, 3.4639395773100006], \"x\": [\"direct\", \"cpa\", \"cpc\", \"social\", \"retargeting\", \"marketplace\", \"referral\", \"media_ad\", \"email\", \"organic\"], \"type\": \"bar\", \"name\": \"sources_not_bounce\"}, {\"y\": [-8.634467709400003, 0.0840963161656001, 2.3772407732820042, -0.0015251987950000157, -0.00022665173411999962, 0.018400562113999985, -0.0448304102599999, 0.9364066750650011, 0.6036152156400001, 4.661290427970002], \"x\": [\"direct\", \"cpa\", \"cpc\", \"social\", \"retargeting\", \"marketplace\", \"referral\", \"media_ad\", \"email\", \"organic\"], \"type\": \"bar\", \"name\": \"sources_not_bounce_weighted\"}, {\"y\": [-8.126059874700001, 0.05955818682789982, 2.3628098486960027, 0.010113752420999989, -0.0009881325765119999, 0.01563740940199998, -0.03692316080000002, 0.9130022200530004, 0.46165390074, 4.341195850030001], \"x\": [\"direct\", \"cpa\", \"cpc\", \"social\", \"retargeting\", \"marketplace\", \"referral\", \"media_ad\", \"email\", \"organic\"], \"type\": \"bar\", \"name\": \"sources_not_bounce_with_position_weighted\"}], {\"xaxis\": {\"tickangle\": 45}}, {\"linkText\": \"Export to plot.ly\", \"showLink\": false})});</script>"
      ],
      "text/plain": [
       "<IPython.core.display.HTML object>"
      ]
     },
     "metadata": {},
     "output_type": "display_data"
    }
   ],
   "source": [
    "show_bar_plot(cmp_df.apply(lambda x: x - cmp_df.last_trafic_source)\\\n",
    "              .drop('last_trafic_source', axis = 1).sort_values('sources_not_bounce'))"
   ]
  },
  {
   "cell_type": "markdown",
   "metadata": {},
   "source": [
    "### Детально"
   ]
  },
  {
   "cell_type": "code",
   "execution_count": 14,
   "metadata": {
    "collapsed": true
   },
   "outputs": [],
   "source": [
    "value = 'Revenue'\n",
    "cmp_df_det = pd.DataFrame()\n",
    "for item in dct:\n",
    "    cmp_df_det[item] = dct[item].reset_index().groupby('SourceDetailed')[value].sum()\n",
    "    \n",
    "cmp_df_det.sort_values('last_trafic_source', ascending = False, inplace = True)"
   ]
  },
  {
   "cell_type": "code",
   "execution_count": 20,
   "metadata": {
    "collapsed": false
   },
   "outputs": [
    {
     "data": {
      "text/html": [
       "<div id=\"57777e44-2669-4137-a248-fa6b530a1718\" style=\"height: 525px; width: 100%;\" class=\"plotly-graph-div\"></div><script type=\"text/javascript\">require([\"plotly\"], function(Plotly) { window.PLOTLYENV=window.PLOTLYENV || {};window.PLOTLYENV.BASE_URL=\"https://plot.ly\";Plotly.newPlot(\"57777e44-2669-4137-a248-fa6b530a1718\", [{\"y\": [25.7704414729, 18.972280051800002, 13.3414792977, 10.6940899842, 7.21719444656, 6.995823938610001, 5.04915434954, 4.06154860759, 3.3811969887199997, 1.3923266575, 1.26047307836, 0.628026407429, 0.520963604924, 0.257039445203, 0.175369450418, 0.15695695207000002, 0.100156848834, 0.0236269718103, 0.00185144574826, 0.0], \"x\": [\"direct\", \"organic yandex\", \"cpc market\", \"cpc yandex\", \"organic google\", \"cpa other\", \"cpc other\", \"media_ad google_adwords\", \"email\", \"referral\", \"organic other\", \"media_ad yandex\", \"social\", \"cpa google_adwords\", \"cpc google_adwords\", \"marketplace\", \"cpa yandex\", \"cpa market\", \"retargeting yandex\", \"media_ad other\"], \"type\": \"bar\", \"name\": \"last_trafic_source\"}, {\"y\": [22.606875904299997, 20.9761966294, 12.8157933449, 11.2843686725, 8.37834520158, 6.290565066649999, 5.1326408380699995, 4.29161843354, 3.5775014550999997, 1.4102299221899999, 1.31975205125, 0.7071753332840001, 0.519707791187, 0.242947468072, 0.165716153275, 0.158649093589, 0.09388756849089999, 0.0268011149872, 0.00122795750181, 0.0], \"x\": [\"direct\", \"organic yandex\", \"cpc market\", \"cpc yandex\", \"organic google\", \"cpa other\", \"cpc other\", \"media_ad google_adwords\", \"email\", \"referral\", \"organic other\", \"media_ad yandex\", \"social\", \"cpa google_adwords\", \"cpc google_adwords\", \"marketplace\", \"cpa yandex\", \"cpa market\", \"retargeting yandex\", \"media_ad other\"], \"type\": \"bar\", \"name\": \"sources_not_bounce_with_position\"}, {\"y\": [22.490795998000003, 21.1415667671, 12.8458103425, 11.127482748299999, 8.41906017269, 6.25390768668, 5.105485823, 4.25797854959, 3.68088218513, 1.4172925158899998, 1.3532602142399999, 0.702477334468, 0.513020383681, 0.24662468999499998, 0.162996006522, 0.16104002772099998, 0.09168787819049999, 0.0263503284805, 0.00228034775535, 0.0], \"x\": [\"direct\", \"organic yandex\", \"cpc market\", \"cpc yandex\", \"organic google\", \"cpa other\", \"cpc other\", \"media_ad google_adwords\", \"email\", \"referral\", \"organic other\", \"media_ad yandex\", \"social\", \"cpa google_adwords\", \"cpc google_adwords\", \"marketplace\", \"cpa yandex\", \"cpa market\", \"retargeting yandex\", \"media_ad other\"], \"type\": \"bar\", \"name\": \"sources_not_bounce\"}, {\"y\": [17.135973763499997, 21.8321207873, 13.635091366900001, 12.2220166065, 8.88000210589, 7.0649960397500005, 5.60446622104, 4.839819521080001, 3.98481220436, 1.34749624724, 1.3991151115, 0.7861621690039999, 0.5194384061289999, 0.269686155557, 0.17575966070000001, 0.175357514184, 0.0997109968354, 0.0263503284805, 0.0016247940141400003, 0.0], \"x\": [\"direct\", \"organic yandex\", \"cpc market\", \"cpc yandex\", \"organic google\", \"cpa other\", \"cpc other\", \"media_ad google_adwords\", \"email\", \"referral\", \"organic other\", \"media_ad yandex\", \"social\", \"cpa google_adwords\", \"cpc google_adwords\", \"marketplace\", \"cpa yandex\", \"cpa market\", \"retargeting yandex\", \"media_ad other\"], \"type\": \"bar\", \"name\": \"sources_not_bounce_weighted\"}, {\"y\": [17.6443815982, 21.6201226194, 13.539723773199999, 12.323271872000001, 8.81534154456, 7.0442613714, 5.5815209463199995, 4.82108034445, 3.8428508894599998, 1.3554034967, 1.3556792627899998, 0.7814968906219999, 0.531077357345, 0.264438709484, 0.178386339034, 0.172594361472, 0.10070419541400001, 0.0268011149872, 0.000863313171748, 0.0], \"x\": [\"direct\", \"organic yandex\", \"cpc market\", \"cpc yandex\", \"organic google\", \"cpa other\", \"cpc other\", \"media_ad google_adwords\", \"email\", \"referral\", \"organic other\", \"media_ad yandex\", \"social\", \"cpa google_adwords\", \"cpc google_adwords\", \"marketplace\", \"cpa yandex\", \"cpa market\", \"retargeting yandex\", \"media_ad other\"], \"type\": \"bar\", \"name\": \"sources_not_bounce_with_position_weighted\"}], {\"xaxis\": {\"tickangle\": 45}}, {\"linkText\": \"Export to plot.ly\", \"showLink\": false})});</script>"
      ],
      "text/plain": [
       "<IPython.core.display.HTML object>"
      ]
     },
     "metadata": {},
     "output_type": "display_data"
    }
   ],
   "source": [
    "show_bar_plot(cmp_df_det)"
   ]
  },
  {
   "cell_type": "markdown",
   "metadata": {},
   "source": [
    "#### Изменения относительно базовой модели (по последнему источнику)"
   ]
  },
  {
   "cell_type": "code",
   "execution_count": 21,
   "metadata": {
    "collapsed": false
   },
   "outputs": [
    {
     "data": {
      "text/html": [
       "<div id=\"a0dfd932-bc48-4ad7-beb3-1d478f3d10e2\" style=\"height: 525px; width: 100%;\" class=\"plotly-graph-div\"></div><script type=\"text/javascript\">require([\"plotly\"], function(Plotly) { window.PLOTLYENV=window.PLOTLYENV || {};window.PLOTLYENV.BASE_URL=\"https://plot.ly\";Plotly.newPlot(\"a0dfd932-bc48-4ad7-beb3-1d478f3d10e2\", [{\"y\": [-3.163565568600003, -0.7052588719600017, -0.5256859528, -0.009653297143000006, -0.014091977130999994, -0.006269280343100009, -0.001255813737000011, 0.0, -0.0006234882464499999, 0.003174143176899999, 0.00169214151899999, 0.01790326468999992, 0.08348648852999929, 0.07914892585500011, 0.05927897289000006, 0.23006982595000025, 0.19630446638, 0.5902786882999997, 1.1611507550200004, 2.0039165775999983], \"x\": [\"direct\", \"cpa other\", \"cpc market\", \"cpc google_adwords\", \"cpa google_adwords\", \"cpa yandex\", \"social\", \"media_ad other\", \"retargeting yandex\", \"cpa market\", \"marketplace\", \"referral\", \"cpc other\", \"media_ad yandex\", \"organic other\", \"media_ad google_adwords\", \"email\", \"cpc yandex\", \"organic google\", \"organic yandex\"], \"type\": \"bar\", \"name\": \"sources_not_bounce_with_position\"}, {\"y\": [-3.279645474899997, -0.7419162519300011, -0.4956689551999993, -0.012373443896000008, -0.010414755208000004, -0.00846897064350001, -0.007943221242999954, 0.0, 0.0004289020070899999, 0.0027233566701999994, 0.004083075650999968, 0.024965858389999873, 0.056331473460000225, 0.07445092703900003, 0.09278713587999987, 0.19642994199999997, 0.29968519641000047, 0.43339276409999883, 1.2018657261299994, 2.1692867152999966], \"x\": [\"direct\", \"cpa other\", \"cpc market\", \"cpc google_adwords\", \"cpa google_adwords\", \"cpa yandex\", \"social\", \"media_ad other\", \"retargeting yandex\", \"cpa market\", \"marketplace\", \"referral\", \"cpc other\", \"media_ad yandex\", \"organic other\", \"media_ad google_adwords\", \"email\", \"cpc yandex\", \"organic google\", \"organic yandex\"], \"type\": \"bar\", \"name\": \"sources_not_bounce\"}, {\"y\": [-8.634467709400003, 0.0691721011399995, 0.2936120692000017, 0.0003902102820000086, 0.012646710354000001, -0.00044585199860000535, -0.0015251987950000157, 0.0, -0.00022665173411999962, 0.0027233566701999994, 0.018400562113999985, -0.0448304102599999, 0.5553118714999998, 0.15813576157499998, 0.13864203314, 0.778270913490001, 0.6036152156400001, 1.5279266223000008, 1.6628076593300003, 2.859840735499997], \"x\": [\"direct\", \"cpa other\", \"cpc market\", \"cpc google_adwords\", \"cpa google_adwords\", \"cpa yandex\", \"social\", \"media_ad other\", \"retargeting yandex\", \"cpa market\", \"marketplace\", \"referral\", \"cpc other\", \"media_ad yandex\", \"organic other\", \"media_ad google_adwords\", \"email\", \"cpc yandex\", \"organic google\", \"organic yandex\"], \"type\": \"bar\", \"name\": \"sources_not_bounce_weighted\"}, {\"y\": [-8.126059874700001, 0.048437432789999235, 0.19824447549999924, 0.0030168886159999964, 0.0073992642810000175, 0.0005473465800000105, 0.010113752420999989, 0.0, -0.0009881325765119999, 0.003174143176899999, 0.01563740940199998, -0.03692316080000002, 0.5323665967799993, 0.15347048319299994, 0.09520618442999984, 0.7595317368600005, 0.46165390074, 1.6291818878000015, 1.598147098000001, 2.647842567599998], \"x\": [\"direct\", \"cpa other\", \"cpc market\", \"cpc google_adwords\", \"cpa google_adwords\", \"cpa yandex\", \"social\", \"media_ad other\", \"retargeting yandex\", \"cpa market\", \"marketplace\", \"referral\", \"cpc other\", \"media_ad yandex\", \"organic other\", \"media_ad google_adwords\", \"email\", \"cpc yandex\", \"organic google\", \"organic yandex\"], \"type\": \"bar\", \"name\": \"sources_not_bounce_with_position_weighted\"}], {\"xaxis\": {\"tickangle\": 45}}, {\"linkText\": \"Export to plot.ly\", \"showLink\": false})});</script>"
      ],
      "text/plain": [
       "<IPython.core.display.HTML object>"
      ]
     },
     "metadata": {},
     "output_type": "display_data"
    }
   ],
   "source": [
    "show_bar_plot(cmp_df_det.apply(lambda x: x - cmp_df_det.last_trafic_source)\\\n",
    "              .drop('last_trafic_source', axis = 1).sort_values('sources_not_bounce'))"
   ]
  },
  {
   "cell_type": "code",
   "execution_count": null,
   "metadata": {
    "collapsed": true
   },
   "outputs": [],
   "source": []
  }
 ],
 "metadata": {
  "kernelspec": {
   "display_name": "Python 2",
   "language": "python",
   "name": "python2"
  },
  "language_info": {
   "codemirror_mode": {
    "name": "ipython",
    "version": 2
   },
   "file_extension": ".py",
   "mimetype": "text/x-python",
   "name": "python",
   "nbconvert_exporter": "python",
   "pygments_lexer": "ipython2",
   "version": "2.7.3"
  }
 },
 "nbformat": 4,
 "nbformat_minor": 1
}
